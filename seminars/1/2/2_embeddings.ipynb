{
 "cells": [
  {
   "cell_type": "markdown",
   "metadata": {},
   "source": [
    "# Embeddings\n",
    "\n",
    "## Word2Vec\n",
    "\n",
    "Векторные модели, которые мы рассматривали до этого (tf-idf, BOW), условно называются *счётными*. Они основываются на том, что так или иначе \"считают\" слова и их соседей, и на основе этого строят вектора для слов. \n",
    "\n",
    "Другой класс моделей, который более повсевмёстно распространён на сегодняшний день, называется *предсказательными* (или *нейронными*) моделями. Идея этих моделей заключается в использовании нейросетевых архитектур, которые \"предсказывают\" (а не считают) соседей слов. Одной из самых известных таких моделей является word2vec. Технология основана на нейронной сети, предсказывающей вероятность встретить слово в заданном контексте. Этот инструмент был разработан группой исследователей Google в 2013 году, руководителем проекта был Томаш Миколов (сейчас работает в Facebook). Вот две самые главные статьи:\n",
    "\n",
    "* [Efficient Estimation of Word Representations in Vector Space](https://arxiv.org/pdf/1301.3781.pdf)\n",
    "* [Distributed Representations of Words and Phrases and their Compositionality](https://arxiv.org/abs/1310.4546)\n",
    "\n",
    "$$\\hat{P}(w_1^T) = \\prod_{t=1}^T \\hat{P}(w_t \\mid w_1^{t-1})$$\n",
    "\n",
    "Полученные таким образом вектора называются *распределенными представлениями слов*, или **эмбеддингами**.\n",
    "\n",
    "\n",
    "### Как это обучается?\n",
    "Мы задаём вектор для каждого слова с помощью матрицы $w$ и вектор контекста с помощью матрицы $W$. По сути, word2vec является обобщающим названием для двух архитектур Skip-Gram и Continuous Bag-Of-Words (CBOW).  \n",
    "\n",
    "**CBOW** предсказывает текущее слово, исходя из окружающего его контекста. \n",
    "\n",
    "**Skip-gram**, наоборот, использует текущее слово, чтобы предугадывать окружающие его слова. \n",
    "\n",
    "### Как это работает?\n",
    "Word2vec принимает большой текстовый корпус в качестве входных данных и сопоставляет каждому слову вектор, выдавая координаты слов на выходе. Сначала он создает словарь, «обучаясь» на входных текстовых данных, а затем вычисляет векторное представление слов. Векторное представление основывается на контекстной близости: слова, встречающиеся в тексте рядом с одинаковыми словами (а следовательно, согласно дистрибутивной гипотезе, имеющие схожий смысл), в векторном представлении будут иметь близкие координаты векторов-слов. Для вычисления близости слов используется косинусное расстояние между их векторами.\n",
    "\n",
    "\n",
    "С помощью дистрибутивных векторных моделей можно строить семантические пропорции (они же аналогии) и решать примеры:\n",
    "\n",
    "* *король: мужчина = королева: женщина* \n",
    " $\\Rightarrow$ \n",
    "* *король - мужчина + женщина = королева*"
   ]
  },
  {
   "cell_type": "markdown",
   "metadata": {},
   "source": [
    "![w2v](https://cdn-images-1.medium.com/max/2600/1*sXNXYfAqfLUeiDXPCo130w.png)"
   ]
  },
  {
   "cell_type": "markdown",
   "metadata": {},
   "source": [
    "### Проблемы\n",
    "Невозможно установить тип семантических отношений между словами: синонимы, антонимы и т.д. будут одинаково близки, потому что обычно употребляются в схожих контекстахю Поэтому близкие в векторном пространстве слова называют *семантическими ассоциатами*. Это значит, что они семантически связаны, но как именно — непонятно.\n",
    "\n",
    "\n",
    "## RusVectōrēs\n",
    "\n",
    "\n",
    "На сайте [RusVectōrēs](https://rusvectores.org/ru/) собраны предобученные на различных данных модели для русского языка, а также можно поискать наиболее близкие слова к заданному, посчитать семантическую близость нескольких слов и порешать примеры с помощью «калькулятором семантической близости».\n",
    "\n",
    "\n",
    "Для других языков также можно найти предобученные модели — например, модели [fastText](https://fasttext.cc/docs/en/english-vectors.html) и [GloVe](https://nlp.stanford.edu/projects/glove/) (о них чуть дальше)."
   ]
  },
  {
   "cell_type": "markdown",
   "metadata": {},
   "source": [
    "## Gensim\n",
    "\n",
    "Использовать предобученную модель эмбеддингов или обучить свою можно с помощью библиотеки `gensim`. Вот [ее документация](https://radimrehurek.com/gensim/models/word2vec.html).\n",
    "\n",
    "### Как использовать готовую модель\n",
    "\n",
    "Модели word2vec бывают разных форматов:\n",
    "\n",
    "* .vec.gz — обычный файл\n",
    "* .bin.gz — бинарник\n",
    "\n",
    "Загружаются они с помощью одного и того же гласса `KeyedVectors`, меняется только параметр `binary` у функции `load_word2vec_format`. \n",
    "\n",
    "Если же эмбеддинги обучены **не** с помощью word2vec, то для загрузки нужно использовать функцию `load`. Т.е. для загрузки предобученных эмбеддингов *glove, fasttext, bpe* и любых других нужна именно она.\n",
    "\n",
    "Скачаем с RusVectōrēs модель для русского языка, обученную на НКРЯ образца 2015 г. "
   ]
  },
  {
   "cell_type": "code",
   "execution_count": 1,
   "metadata": {},
   "outputs": [],
   "source": [
    "import re\n",
    "import gensim\n",
    "import logging\n",
    "import nltk.data \n",
    "import pandas as pd\n",
    "import urllib.request\n",
    "from bs4 import BeautifulSoup\n",
    "from nltk.corpus import stopwords\n",
    "from gensim.models import word2vec\n",
    "from nltk.tokenize import sent_tokenize, RegexpTokenizer"
   ]
  },
  {
   "cell_type": "code",
   "execution_count": 54,
   "metadata": {},
   "outputs": [
    {
     "data": {
      "text/plain": [
       "('ruscorpora_mystem_cbow_300_2_2015.bin.gz',\n",
       " <http.client.HTTPMessage at 0x138433e10>)"
      ]
     },
     "execution_count": 54,
     "metadata": {},
     "output_type": "execute_result"
    }
   ],
   "source": [
    "urllib.request.urlretrieve(\"http://rusvectores.org/static/models/rusvectores2/ruscorpora_mystem_cbow_300_2_2015.bin.gz\", \"ruscorpora_mystem_cbow_300_2_2015.bin.gz\")"
   ]
  },
  {
   "cell_type": "code",
   "execution_count": 55,
   "metadata": {},
   "outputs": [],
   "source": [
    "model_path = 'ruscorpora_mystem_cbow_300_2_2015.bin.gz'\n",
    "\n",
    "model_ru = gensim.models.KeyedVectors.load_word2vec_format(model_path, binary=True)"
   ]
  },
  {
   "cell_type": "code",
   "execution_count": 56,
   "metadata": {},
   "outputs": [],
   "source": [
    "words = ['день_S', 'ночь_S', 'человек_S', 'семантика_S', 'биткоин_S']"
   ]
  },
  {
   "cell_type": "markdown",
   "metadata": {},
   "source": [
    "Частеречные тэги нужны, поскольку это специфика скачанной модели - она была натренирована на словах, аннотированных их частями речи (и лемматизированных). **NB!** В названиях моделей на `rusvectores` указано, какой тегсет они используют (mystem, upos и т.д.)\n",
    "\n",
    "Попросим у модели 10 ближайших соседей для каждого слова и коэффициент косинусной близости для каждого:"
   ]
  },
  {
   "cell_type": "code",
   "execution_count": 57,
   "metadata": {},
   "outputs": [
    {
     "name": "stdout",
     "output_type": "stream",
     "text": [
      "день_S\n",
      "[-0.02580778  0.00970898  0.01941961 -0.02332282  0.02017624  0.07275085\n",
      " -0.01444375  0.03316632  0.01242602  0.02833412]\n",
      "неделя_S 0.7165195941925049\n",
      "месяц_S 0.631048858165741\n",
      "вечер_S 0.5828738808631897\n",
      "утро_S 0.5676206946372986\n",
      "час_S 0.5605547428131104\n",
      "минута_S 0.5297019481658936\n",
      "гекатомбеон_S 0.4897990822792053\n",
      "денек_S 0.48224714398384094\n",
      "полчаса_S 0.48217129707336426\n",
      "ночь_S 0.478074848651886\n",
      "\n",
      "\n",
      "ночь_S\n",
      "[-0.00688948  0.00408364  0.06975466 -0.00959525  0.0194835   0.04057068\n",
      " -0.00994112  0.06064967 -0.00522624  0.00520327]\n",
      "вечер_S 0.6946248412132263\n",
      "утро_S 0.57301926612854\n",
      "ноченька_S 0.5582467317581177\n",
      "рассвет_S 0.5553584098815918\n",
      "ночка_S 0.5351512432098389\n",
      "полдень_S 0.5334426760673523\n",
      "полночь_S 0.4786943793296814\n",
      "день_S 0.4780748784542084\n",
      "сумерки_S 0.4390218257904053\n",
      "фундерфун_S 0.4340824782848358\n",
      "\n",
      "\n",
      "человек_S\n",
      "[ 0.02013756 -0.02670703 -0.02039861 -0.05477146  0.00086402 -0.01636335\n",
      "  0.04240306 -0.00025525 -0.14045681  0.04785006]\n",
      "женщина_S 0.5979774594306946\n",
      "парень_S 0.4991787374019623\n",
      "мужчина_S 0.4767409861087799\n",
      "мужик_S 0.47383999824523926\n",
      "россиянин_S 0.4719043970108032\n",
      "народ_S 0.4654741883277893\n",
      "согражданин_S 0.45378515124320984\n",
      "горожанин_S 0.44368088245391846\n",
      "девушка_S 0.44314485788345337\n",
      "иностранец_S 0.43849867582321167\n",
      "\n",
      "\n",
      "семантика_S\n",
      "[-0.03066749  0.0053851   0.1110732   0.0152335   0.00440643  0.00384104\n",
      "  0.00096944 -0.03538784 -0.00079585  0.03220548]\n",
      "семантический_A 0.5334584712982178\n",
      "понятие_S 0.5030269622802734\n",
      "сочетаемость_S 0.4817051291465759\n",
      "актант_S 0.47596412897109985\n",
      "хронотоп_S 0.46330299973487854\n",
      "метафора_S 0.46158894896507263\n",
      "мышление_S 0.4610119163990021\n",
      "парадигма_S 0.4579666256904602\n",
      "лексема_S 0.45688074827194214\n",
      "смысловой_A 0.45430776476860046\n",
      "\n",
      "\n",
      "Увы, слова \"биткоин_S\" нет в модели!\n"
     ]
    }
   ],
   "source": [
    "for word in words:\n",
    "    # есть ли слово в модели? \n",
    "    if word in model_ru:\n",
    "        print(word)\n",
    "        # смотрим на вектор слова (его размерность 300, смотрим на первые 10 чисел)\n",
    "        print(model_ru[word][:10])\n",
    "        # выдаем 10 ближайших соседей слова:\n",
    "        for i in model_ru.most_similar(positive=[word], topn=10):\n",
    "            # слово + коэффициент косинусной близости\n",
    "            print(i[0], i[1])\n",
    "        print('\\n')\n",
    "    else:\n",
    "        # Увы!\n",
    "        print('Увы, слова \"%s\" нет в модели!' % word)"
   ]
  },
  {
   "cell_type": "markdown",
   "metadata": {},
   "source": [
    "Находим косинусную близость пары слов:"
   ]
  },
  {
   "cell_type": "code",
   "execution_count": 6,
   "metadata": {},
   "outputs": [
    {
     "name": "stdout",
     "output_type": "stream",
     "text": [
      "0.2389560934322063\n"
     ]
    }
   ],
   "source": [
    "print(model_ru.similarity('человек_S', 'обезьяна_S'))"
   ]
  },
  {
   "cell_type": "markdown",
   "metadata": {},
   "source": [
    "Что получится, если вычесть из пиццы Италию и прибавить Сибирь?\n",
    "\n",
    "* positive — вектора, которые мы складываем\n",
    "* negative — вектора, которые вычитаем"
   ]
  },
  {
   "cell_type": "code",
   "execution_count": 7,
   "metadata": {},
   "outputs": [
    {
     "name": "stdout",
     "output_type": "stream",
     "text": [
      "пельмень_S\n"
     ]
    }
   ],
   "source": [
    "print(model_ru.most_similar(positive=['пицца_S', 'сибирь_S'], negative=['италия_S'])[0][0])"
   ]
  },
  {
   "cell_type": "code",
   "execution_count": 8,
   "metadata": {},
   "outputs": [
    {
     "data": {
      "text/plain": [
       "'ананас_S'"
      ]
     },
     "execution_count": 8,
     "metadata": {},
     "output_type": "execute_result"
    }
   ],
   "source": [
    "model_ru.doesnt_match('пицца_S пельмень_S хот-дог_S ананас_S'.split())"
   ]
  },
  {
   "cell_type": "markdown",
   "metadata": {},
   "source": [
    "### Как обучить свою модель\n",
    "\n",
    "В качестве обучающих данных возьмем размеченные и неразмеченные отзывы о фильмах (датасет взят с Kaggle)."
   ]
  },
  {
   "cell_type": "code",
   "execution_count": 14,
   "metadata": {},
   "outputs": [
    {
     "name": "stdout",
     "output_type": "stream",
     "text": [
      "--2019-09-08 12:47:09--  https://raw.githubusercontent.com/ancatmara/data-science-nlp/master/data/w2v/train/unlabeledTrainData.tsv\n",
      "Распознаётся raw.githubusercontent.com (raw.githubusercontent.com)… 151.101.0.133, 151.101.64.133, 151.101.128.133, ...\n",
      "Подключение к raw.githubusercontent.com (raw.githubusercontent.com)|151.101.0.133|:443... соединение установлено.\n",
      "HTTP-запрос отправлен. Ожидание ответа… 200 OK\n",
      "Длина: 67281491 (64M) [text/plain]\n",
      "Сохранение в: «unlabeledTrainData.tsv.1»\n",
      "\n",
      "unlabeledTrainData. 100%[===================>]  64,16M  4,39MB/s    за 17s     \n",
      "\n",
      "2019-09-08 12:47:29 (3,72 MB/s) - «unlabeledTrainData.tsv.1» сохранён [67281491/67281491]\n",
      "\n"
     ]
    }
   ],
   "source": [
    "! wget https://raw.githubusercontent.com/ancatmara/data-science-nlp/master/data/w2v/train/unlabeledTrainData.tsv"
   ]
  },
  {
   "cell_type": "code",
   "execution_count": 22,
   "metadata": {},
   "outputs": [
    {
     "data": {
      "text/plain": [
       "50000"
      ]
     },
     "execution_count": 22,
     "metadata": {},
     "output_type": "execute_result"
    }
   ],
   "source": [
    "data = pd.read_csv(\"unlabeledTrainData.tsv\", header=0, delimiter=\"\\t\", quoting=3)\n",
    "\n",
    "len(data)"
   ]
  },
  {
   "cell_type": "code",
   "execution_count": 18,
   "metadata": {},
   "outputs": [
    {
     "data": {
      "text/html": [
       "<div>\n",
       "<style scoped>\n",
       "    .dataframe tbody tr th:only-of-type {\n",
       "        vertical-align: middle;\n",
       "    }\n",
       "\n",
       "    .dataframe tbody tr th {\n",
       "        vertical-align: top;\n",
       "    }\n",
       "\n",
       "    .dataframe thead th {\n",
       "        text-align: right;\n",
       "    }\n",
       "</style>\n",
       "<table border=\"1\" class=\"dataframe\">\n",
       "  <thead>\n",
       "    <tr style=\"text-align: right;\">\n",
       "      <th></th>\n",
       "      <th>id</th>\n",
       "      <th>review</th>\n",
       "    </tr>\n",
       "  </thead>\n",
       "  <tbody>\n",
       "    <tr>\n",
       "      <th>0</th>\n",
       "      <td>\"9999_0\"</td>\n",
       "      <td>\"Watching Time Chasers, it obvious that it was...</td>\n",
       "    </tr>\n",
       "    <tr>\n",
       "      <th>1</th>\n",
       "      <td>\"45057_0\"</td>\n",
       "      <td>\"I saw this film about 20 years ago and rememb...</td>\n",
       "    </tr>\n",
       "    <tr>\n",
       "      <th>2</th>\n",
       "      <td>\"15561_0\"</td>\n",
       "      <td>\"Minor Spoilers&lt;br /&gt;&lt;br /&gt;In New York, Joan B...</td>\n",
       "    </tr>\n",
       "    <tr>\n",
       "      <th>3</th>\n",
       "      <td>\"7161_0\"</td>\n",
       "      <td>\"I went to see this film with a great deal of ...</td>\n",
       "    </tr>\n",
       "    <tr>\n",
       "      <th>4</th>\n",
       "      <td>\"43971_0\"</td>\n",
       "      <td>\"Yes, I agree with everyone on this site this ...</td>\n",
       "    </tr>\n",
       "  </tbody>\n",
       "</table>\n",
       "</div>"
      ],
      "text/plain": [
       "          id                                             review\n",
       "0   \"9999_0\"  \"Watching Time Chasers, it obvious that it was...\n",
       "1  \"45057_0\"  \"I saw this film about 20 years ago and rememb...\n",
       "2  \"15561_0\"  \"Minor Spoilers<br /><br />In New York, Joan B...\n",
       "3   \"7161_0\"  \"I went to see this film with a great deal of ...\n",
       "4  \"43971_0\"  \"Yes, I agree with everyone on this site this ..."
      ]
     },
     "execution_count": 18,
     "metadata": {},
     "output_type": "execute_result"
    }
   ],
   "source": [
    "data.head()"
   ]
  },
  {
   "cell_type": "markdown",
   "metadata": {},
   "source": [
    "Убираем из данных ссылки, html-разметку и небуквенные символы, а затем приводим все к нижнему регистру и токенизируем. На выходе получается массив из предложений, каждое из которых представляет собой массив слов. Здесь используется токенизатор из библиотеки `nltk`. "
   ]
  },
  {
   "cell_type": "code",
   "execution_count": 19,
   "metadata": {},
   "outputs": [],
   "source": [
    "tokenizer = nltk.data.load('tokenizers/punkt/english.pickle')\n",
    "\n",
    "def review_to_wordlist(review, remove_stopwords=False ):\n",
    "    # убираем ссылки вне тегов\n",
    "    review = re.sub(r\"http[s]?://(?:[a-zA-Z]|[0-9]|[$-_@.&+]|[!*\\(\\),]|(?:%[0-9a-fA-F][0-9a-fA-F]))+\", \" \", review)\n",
    "    review_text = BeautifulSoup(review, \"lxml\").get_text()\n",
    "    review_text = re.sub(\"[^a-zA-Z]\",\" \", review_text)\n",
    "    words = review_text.lower().split()\n",
    "    if remove_stopwords:\n",
    "        stops = stopwords.words(\"english\")\n",
    "        words = [w for w in words if not w in stops]\n",
    "    return(words)\n",
    "\n",
    "def review_to_sentences(review, tokenizer, remove_stopwords=False):\n",
    "    raw_sentences = tokenizer.tokenize(review.strip())\n",
    "    sentences = []\n",
    "    for raw_sentence in raw_sentences:\n",
    "        if len(raw_sentence) > 0:\n",
    "            sentences.append(review_to_wordlist(raw_sentence, remove_stopwords))\n",
    "    return sentences"
   ]
  },
  {
   "cell_type": "code",
   "execution_count": 20,
   "metadata": {},
   "outputs": [
    {
     "name": "stdout",
     "output_type": "stream",
     "text": [
      "Parsing sentences from training set...\n"
     ]
    },
    {
     "name": "stderr",
     "output_type": "stream",
     "text": [
      "/Library/Frameworks/Python.framework/Versions/3.6/lib/python3.6/site-packages/bs4/__init__.py:219: UserWarning: \"b'.'\" looks like a filename, not markup. You shouldprobably open this file and pass the filehandle intoBeautiful Soup.\n",
      "  'Beautiful Soup.' % markup)\n",
      "/Library/Frameworks/Python.framework/Versions/3.6/lib/python3.6/site-packages/bs4/__init__.py:219: UserWarning: \"b'..'\" looks like a filename, not markup. You shouldprobably open this file and pass the filehandle intoBeautiful Soup.\n",
      "  'Beautiful Soup.' % markup)\n"
     ]
    }
   ],
   "source": [
    "#logging.basicConfig(format='%(asctime)s : %(levelname)s : %(message)s', level=logging.INFO)\n",
    "\n",
    "sentences = []  \n",
    "\n",
    "print(\"Parsing sentences from training set...\")\n",
    "for review in data[\"review\"]:\n",
    "    sentences += review_to_sentences(review, tokenizer)"
   ]
  },
  {
   "cell_type": "code",
   "execution_count": 21,
   "metadata": {},
   "outputs": [
    {
     "name": "stdout",
     "output_type": "stream",
     "text": [
      "528987\n",
      "['watching', 'time', 'chasers', 'it', 'obvious', 'that', 'it', 'was', 'made', 'by', 'a', 'bunch', 'of', 'friends']\n"
     ]
    }
   ],
   "source": [
    "print(len(sentences))\n",
    "print(sentences[0])"
   ]
  },
  {
   "cell_type": "code",
   "execution_count": 23,
   "metadata": {},
   "outputs": [],
   "source": [
    "# это понадобится нам позже\n",
    "\n",
    "with open('clean_text.txt', 'w') as f:\n",
    "    for s in sentences[:5000]:\n",
    "        f.write(' '.join(s))\n",
    "        f.write('\\n')"
   ]
  },
  {
   "cell_type": "markdown",
   "metadata": {},
   "source": [
    "Обучаем и сохраняем модель. \n",
    "\n",
    "\n",
    "Основные параметры:\n",
    "* данные должны быть итерируемым объектом \n",
    "* size — размер вектора, \n",
    "* window — размер окна наблюдения,\n",
    "* min_count — мин. частотность слова в корпусе,\n",
    "* sg — используемый алгоритм обучения (0 — CBOW, 1 — Skip-gram),\n",
    "* sample — порог для downsampling'a высокочастотных слов,\n",
    "* workers — количество потоков,\n",
    "* alpha — learning rate,\n",
    "* iter — количество итераций,\n",
    "* max_vocab_size — позволяет выставить ограничение по памяти при создании словаря (т.е. если ограничение привышается, то низкочастотные слова будут выбрасываться). Для сравнения: 10 млн слов = 1Гб RAM.\n",
    "\n",
    "**NB!** Обратите внимание, что тренировка модели не включает препроцессинг! Это значит, что избавляться от пунктуации, приводить слова к нижнему регистру, лемматизировать их, проставлять частеречные теги придется до тренировки модели (если, конечно, это необходимо для вашей задачи). Т.е. в каком виде слова будут в исходном тексте, в таком они будут и в модели."
   ]
  },
  {
   "cell_type": "code",
   "execution_count": 24,
   "metadata": {},
   "outputs": [
    {
     "name": "stdout",
     "output_type": "stream",
     "text": [
      "Training model...\n",
      "CPU times: user 2min 52s, sys: 1.19 s, total: 2min 54s\n",
      "Wall time: 58.7 s\n"
     ]
    }
   ],
   "source": [
    "print(\"Training model...\")\n",
    "\n",
    "%time model_en = word2vec.Word2Vec(sentences, workers=4, size=300, min_count=10, window=10, sample=1e-3)"
   ]
  },
  {
   "cell_type": "markdown",
   "metadata": {},
   "source": [
    "Смотрим, сколько в модели слов."
   ]
  },
  {
   "cell_type": "code",
   "execution_count": 25,
   "metadata": {},
   "outputs": [
    {
     "name": "stdout",
     "output_type": "stream",
     "text": [
      "28308\n"
     ]
    }
   ],
   "source": [
    "print(len(model_en.wv.vocab))"
   ]
  },
  {
   "cell_type": "markdown",
   "metadata": {},
   "source": [
    "Попробуем оценить модель вручную, порешав примеры. Несколько дано ниже, попробуйте придумать свои."
   ]
  },
  {
   "cell_type": "code",
   "execution_count": 26,
   "metadata": {},
   "outputs": [
    {
     "name": "stdout",
     "output_type": "stream",
     "text": [
      "[('actress', 0.7690370082855225)]\n",
      "[('men', 0.6405411958694458)]\n",
      "[('germany', 0.7654047012329102), ('europe', 0.7413791418075562), ('canada', 0.7300304174423218)]\n",
      "novel\n"
     ]
    }
   ],
   "source": [
    "print(model_en.wv.most_similar(positive=[\"woman\", \"actor\"], negative=[\"man\"], topn=1))\n",
    "print(model_en.wv.most_similar(positive=[\"dogs\", \"man\"], negative=[\"dog\"], topn=1))\n",
    "\n",
    "print(model_en.wv.most_similar(\"usa\", topn=3))\n",
    "\n",
    "print(model_en.wv.doesnt_match(\"comedy thriller western novel\".split()))"
   ]
  },
  {
   "cell_type": "markdown",
   "metadata": {},
   "source": [
    "### Как дообучить существующую модель\n",
    "\n",
    "При тренировке модели \"с нуля\" веса инициализируются случайно, однако можно использовать для инициализации векторов веса из предобученной модели, таким образом как бы дообучая ее.\n",
    "\n",
    "Сначала посмотрим близость какой-нибудь пары слов в имеющейс модели, чтобы потом сравнить результат с дообученной."
   ]
  },
  {
   "cell_type": "code",
   "execution_count": 48,
   "metadata": {},
   "outputs": [
    {
     "data": {
      "text/plain": [
       "0.2693721120152248"
      ]
     },
     "execution_count": 48,
     "metadata": {},
     "output_type": "execute_result"
    }
   ],
   "source": [
    "model_en.wv.similarity('lion', 'rabbit')"
   ]
  },
  {
   "cell_type": "markdown",
   "metadata": {},
   "source": [
    "В качестве дополнительных данных для обучения возьмем английский текст «Алисы в Зазеркалье»."
   ]
  },
  {
   "cell_type": "code",
   "execution_count": 32,
   "metadata": {},
   "outputs": [
    {
     "name": "stdout",
     "output_type": "stream",
     "text": [
      "--2019-09-08 12:55:27--  https://raw.githubusercontent.com/ancatmara/data-science-nlp/master/data/w2v/train/alice.txt\n",
      "Распознаётся raw.githubusercontent.com (raw.githubusercontent.com)… 151.101.0.133, 151.101.128.133, 151.101.192.133, ...\n",
      "Подключение к raw.githubusercontent.com (raw.githubusercontent.com)|151.101.0.133|:443... соединение установлено.\n",
      "HTTP-запрос отправлен. Ожидание ответа… 200 OK\n",
      "Длина: 167631 (164K) [text/plain]\n",
      "Сохранение в: «alice.txt.1»\n",
      "\n",
      "alice.txt.1         100%[===================>] 163,70K  --.-KB/s    за 0,09s   \n",
      "\n",
      "2019-09-08 12:55:27 (1,83 MB/s) - «alice.txt.1» сохранён [167631/167631]\n",
      "\n"
     ]
    }
   ],
   "source": [
    "! wget https://raw.githubusercontent.com/ancatmara/data-science-nlp/master/data/w2v/train/alice.txt"
   ]
  },
  {
   "cell_type": "code",
   "execution_count": 35,
   "metadata": {},
   "outputs": [
    {
     "name": "stdout",
     "output_type": "stream",
     "text": [
      "[['through', 'the', 'looking-glass', 'by', 'lewis', 'carroll', 'chapter', 'i', 'looking-glass', 'house', 'one', 'thing', 'was', 'certain', 'that', 'the', 'white', 'kitten', 'had', 'had', 'nothing', 'to', 'do', 'with', 'it', '', 'it', 'was', 'the', 'black', 'kitten’s', 'fault', 'entirely'], ['for', 'the', 'white', 'kitten', 'had', 'been', 'having', 'its', 'face', 'washed', 'by', 'the', 'old', 'cat', 'for', 'the', 'last', 'quarter', 'of', 'an', 'hour', 'and', 'bearing', 'it', 'pretty', 'well', 'considering', 'so', 'you', 'see', 'that', 'it', 'couldn’t', 'have', 'had', 'any', 'hand', 'in', 'the', 'mischief']]\n"
     ]
    }
   ],
   "source": [
    "with open(\"alice.txt\", 'r', encoding='utf-8') as f:\n",
    "    text = f.read()\n",
    "\n",
    "text = re.sub('\\n', ' ', text)\n",
    "sents = sent_tokenize(text)\n",
    "\n",
    "punct = '!\"#$%&()*+,-./:;<=>?@[\\]^_`{|}~„“«»†*—/\\-‘’'\n",
    "clean_sents = []\n",
    "\n",
    "for sent in sents:\n",
    "    s = [w.lower().strip(punct) for w in sent.split()]\n",
    "    clean_sents.append(s)\n",
    "    \n",
    "print(clean_sents[:2])"
   ]
  },
  {
   "cell_type": "markdown",
   "metadata": {},
   "source": [
    "Чтобы дообучить модель, надо сначала ее сохранить, а потом загрузить. Все параметры тренировки (размер вектора, мин. частота слова и т.п.) будут взяты из загруженной модели, т.е. задать их заново нельзя.\n",
    "\n",
    "**NB!** Дообучить можно только полную модель, а `KeyedVectors` — нельзя. Поэтому сохранять модель нужно в соотвествующем формате. Подробнее о разнице [вот тут](https://radimrehurek.com/gensim/models/keyedvectors.html)."
   ]
  },
  {
   "cell_type": "code",
   "execution_count": 36,
   "metadata": {},
   "outputs": [
    {
     "name": "stdout",
     "output_type": "stream",
     "text": [
      "Saving model...\n"
     ]
    }
   ],
   "source": [
    "model_path = \"movie_reviews.model\"\n",
    "\n",
    "print(\"Saving model...\")\n",
    "model_en.save(model_path)"
   ]
  },
  {
   "cell_type": "code",
   "execution_count": 37,
   "metadata": {},
   "outputs": [
    {
     "data": {
      "text/plain": [
       "(96931, 150225)"
      ]
     },
     "execution_count": 37,
     "metadata": {},
     "output_type": "execute_result"
    }
   ],
   "source": [
    "model = word2vec.Word2Vec.load(model_path)\n",
    "\n",
    "model.build_vocab(clean_sents, update=True)\n",
    "model.train(clean_sents, total_examples=model.corpus_count, epochs=5)"
   ]
  },
  {
   "cell_type": "markdown",
   "metadata": {},
   "source": [
    "Лев и кролик стали ближе друг к другу!"
   ]
  },
  {
   "cell_type": "code",
   "execution_count": 49,
   "metadata": {},
   "outputs": [
    {
     "data": {
      "text/plain": [
       "0.28044813294218507"
      ]
     },
     "execution_count": 49,
     "metadata": {},
     "output_type": "execute_result"
    }
   ],
   "source": [
    "model.wv.similarity('lion', 'rabbit')"
   ]
  },
  {
   "cell_type": "markdown",
   "metadata": {},
   "source": [
    "Можно нормализовать вектора, тогда модель будет занимать меньше RAM. Однако после этого её нельзя дотренировывать. Здесь используется L2-нормализация: вектора нормализуются так, что если сложить квадраты всех элементов вектора, в сумме получится 1. \n",
    "\n",
    "Кроме того, сохраним не полные вектора, а `KeyedVectors`."
   ]
  },
  {
   "cell_type": "code",
   "execution_count": 50,
   "metadata": {},
   "outputs": [
    {
     "name": "stdout",
     "output_type": "stream",
     "text": [
      "Saving model...\n"
     ]
    }
   ],
   "source": [
    "model.init_sims(replace=True)\n",
    "model_path = \"movies_alice.bin\"\n",
    "\n",
    "print(\"Saving model...\")\n",
    "model_en.wv.save_word2vec_format(model_path, binary=True)"
   ]
  },
  {
   "cell_type": "markdown",
   "metadata": {},
   "source": [
    "## Оценка\n",
    "\n",
    "Это, конечно, хорошо, но как понять, какая модель лучше? Или вот, например, я сделал свою модель, а как понять, насколько она хорошая?\n",
    "\n",
    "Для этого существуют специальные датасеты для оценки качества дистрибутивных моделей. Основных два: один измеряет точность решения задач на аналогии (про Россию и пельмени), а второй используется для оценки коэффициента семантической близости. \n",
    "\n",
    "### Word Similarity\n",
    "\n",
    "Этот метод заключается в том, чтобы оценить, насколько представления о семантической близости слов в модели соотносятся с \"представлениями\" людей.\n",
    "\n",
    "| слово 1    | слово 2    | близость | \n",
    "|------------|------------|----------|\n",
    "| кошка      | собака     | 0.7      |  \n",
    "| чашка      | кружка     | 0.9      |       \n",
    "\n",
    "Для каждой пары слов из заранее заданного датасета мы можем посчитать косинусное расстояние, и получить список таких значений близости. При этом у нас уже есть список значений близостей, сделанный людьми. Мы можем сравнить эти два списка и понять, насколько они похожи (например, посчитав корреляцию). Эта мера схожести должна говорить о том, насколько модель хорошо моделирует расстояния о слова.\n",
    "\n",
    "### Аналогии\n",
    "\n",
    "Другая популярная задача для \"внутренней\" оценки называется задачей поиска аналогий. Как мы уже разбирали выше, с помощью простых арифметических операций мы можем модифицировать значение слова. Если заранее собрать набор слов-модификаторов, а также слов, которые мы хотим получить в результаты модификации, то на основе подсчёта количества \"попаданий\" в желаемое слово мы можем оценить, насколько хорошо работает модель.\n",
    "\n",
    "В качестве слов-модификатор мы можем использовать семантические аналогии. Скажем, если у нас есть некоторое отношение \"страна-столица\", то для оценки модели мы можем использовать пары наподобие \"Россия-Москва\", \"Норвегия-Осло\", и т.д. Датасет будет выглядеть следующм образом:\n",
    "\n",
    "| слово 1    | слово 2    | отношение     | \n",
    "|------------|------------|---------------|\n",
    "| Россия     | Москва     | страна-столица|  \n",
    "| Норвегия   | Осло       | страна-столица|\n",
    "\n",
    "Рассматривая случайные две пары из этого набора, мы хотим, имея триплет (Россия, Москва, Норвегия) хотим получить слово \"Осло\", т.е. найти такое слово, которое будет находиться в том же отношении со словом \"Норвегия\", как \"Россия\" находится с Москвой. \n",
    "\n",
    "Датасеты для русского языка можно скачать на странице с моделями на RusVectores. Посчитаем качество нашей модели НКРЯ на датасете про аналогии:"
   ]
  },
  {
   "cell_type": "code",
   "execution_count": 51,
   "metadata": {},
   "outputs": [
    {
     "name": "stdout",
     "output_type": "stream",
     "text": [
      "--2019-09-08 12:58:41--  https://raw.githubusercontent.com/ancatmara/data-science-nlp/master/data/w2v/evaluation/ru_analogy_tagged.txt\n",
      "Распознаётся raw.githubusercontent.com (raw.githubusercontent.com)… 151.101.0.133, 151.101.64.133, 151.101.192.133, ...\n",
      "Подключение к raw.githubusercontent.com (raw.githubusercontent.com)|151.101.0.133|:443... соединение установлено.\n",
      "HTTP-запрос отправлен. Ожидание ответа… 200 OK\n",
      "Длина: 871776 (851K) [text/plain]\n",
      "Сохранение в: «ru_analogy_tagged.txt»\n",
      "\n",
      "ru_analogy_tagged.t 100%[===================>] 851,34K  5,43MB/s    за 0,2s    \n",
      "\n",
      "2019-09-08 12:58:42 (5,43 MB/s) - «ru_analogy_tagged.txt» сохранён [871776/871776]\n",
      "\n"
     ]
    }
   ],
   "source": [
    "! wget https://raw.githubusercontent.com/ancatmara/data-science-nlp/master/data/w2v/evaluation/ru_analogy_tagged.txt"
   ]
  },
  {
   "cell_type": "code",
   "execution_count": 58,
   "metadata": {},
   "outputs": [],
   "source": [
    "res = model_ru.accuracy('ru_analogy_tagged.txt')"
   ]
  },
  {
   "cell_type": "code",
   "execution_count": 23,
   "metadata": {},
   "outputs": [
    {
     "name": "stdout",
     "output_type": "stream",
     "text": [
      "[('МАЛЬЧИК_S', 'ДЕВОЧКА_S', 'ДЕД_S', 'БАБКА_S'), ('МАЛЬЧИК_S', 'ДЕВОЧКА_S', 'КОРОЛЬ_S', 'КОРОЛЕВА_S'), ('МАЛЬЧИК_S', 'ДЕВОЧКА_S', 'ПРИНЦ_S', 'ПРИНЦЕССА_S'), ('МАЛЬЧИК_S', 'ДЕВОЧКА_S', 'ОТЧИМ_S', 'МАЧЕХА_S'), ('МАЛЬЧИК_S', 'ДЕВОЧКА_S', 'ПАСЫНОК_S', 'ПАДЧЕРИЦА_S'), ('БРАТ_S', 'СЕСТРА_S', 'ДЕД_S', 'БАБКА_S'), ('БРАТ_S', 'СЕСТРА_S', 'ОТЧИМ_S', 'МАЧЕХА_S'), ('БРАТ_S', 'СЕСТРА_S', 'ПАСЫНОК_S', 'ПАДЧЕРИЦА_S'), ('ПАПА_S', 'МАМА_S', 'ДЕД_S', 'БАБКА_S'), ('ПАПА_S', 'МАМА_S', 'ОТЧИМ_S', 'МАЧЕХА_S')]\n"
     ]
    }
   ],
   "source": [
    "print(res[4]['incorrect'][:10])"
   ]
  },
  {
   "cell_type": "markdown",
   "metadata": {},
   "source": [
    "## Визуализация\n",
    "\n",
    "На полученную модель можно посмотреть, визуализировав ее, например, на плоскости.\n",
    "### t-SNE\n",
    "\n",
    "**t-SNE**  (*t-distributed Stochastic Neighbor Embedding*) — техника нелинейного снижения размерности и визуализации многомерных переменных. Она разработана специально для данных высокой размерности Л. ван дер Маатеном и Д. Хинтоном, [вот их статья](http://jmlr.org/papers/volume9/vandermaaten08a/vandermaaten08a.pdf). t-SNE — это итеративный алгоритм, основанный на вычислении попарных расстояний между всеми объектами (в том числе поэтому он довольно медленный).\n",
    "\n",
    "\n",
    "Изобразим на плоскости 1000 самых частотных слов из коллекции текстов про кино:"
   ]
  },
  {
   "cell_type": "code",
   "execution_count": 4,
   "metadata": {},
   "outputs": [],
   "source": [
    "from nltk import FreqDist\n",
    "from tqdm import tqdm_notebook as tqdm\n",
    "from sklearn.manifold import TSNE\n",
    "\n",
    "top_words = []\n",
    "\n",
    "\n",
    "fd = FreqDist()\n",
    "for s in tqdm(sentences):\n",
    "    fd.update(s)\n",
    "\n",
    "for w in fd.most_common(1000):\n",
    "    top_words.append(w[0])\n",
    "    \n",
    "print(top_words[:50:])\n",
    "top_words_vec = model[top_words]"
   ]
  },
  {
   "cell_type": "code",
   "execution_count": 36,
   "metadata": {},
   "outputs": [
    {
     "name": "stdout",
     "output_type": "stream",
     "text": [
      "CPU times: user 20.8 s, sys: 1.1 s, total: 21.9 s\n",
      "Wall time: 22.2 s\n"
     ]
    }
   ],
   "source": [
    "%%time\n",
    "tsne = TSNE(n_components=2, random_state=0)\n",
    "top_words_tsne = tsne.fit_transform(top_words_vec)"
   ]
  },
  {
   "cell_type": "code",
   "execution_count": 39,
   "metadata": {},
   "outputs": [
    {
     "data": {
      "text/html": [
       "\n",
       "    <div class=\"bk-root\">\n",
       "        <a href=\"https://bokeh.pydata.org\" target=\"_blank\" class=\"bk-logo bk-logo-small bk-logo-notebook\"></a>\n",
       "        <span id=\"0e462cae-3ceb-4c12-acdd-2c55ac016ca1\">Loading BokehJS ...</span>\n",
       "    </div>"
      ]
     },
     "metadata": {},
     "output_type": "display_data"
    },
    {
     "data": {
      "application/javascript": [
       "\n",
       "(function(root) {\n",
       "  function now() {\n",
       "    return new Date();\n",
       "  }\n",
       "\n",
       "  var force = true;\n",
       "\n",
       "  if (typeof (root._bokeh_onload_callbacks) === \"undefined\" || force === true) {\n",
       "    root._bokeh_onload_callbacks = [];\n",
       "    root._bokeh_is_loading = undefined;\n",
       "  }\n",
       "\n",
       "  var JS_MIME_TYPE = 'application/javascript';\n",
       "  var HTML_MIME_TYPE = 'text/html';\n",
       "  var EXEC_MIME_TYPE = 'application/vnd.bokehjs_exec.v0+json';\n",
       "  var CLASS_NAME = 'output_bokeh rendered_html';\n",
       "\n",
       "  /**\n",
       "   * Render data to the DOM node\n",
       "   */\n",
       "  function render(props, node) {\n",
       "    var script = document.createElement(\"script\");\n",
       "    node.appendChild(script);\n",
       "  }\n",
       "\n",
       "  /**\n",
       "   * Handle when an output is cleared or removed\n",
       "   */\n",
       "  function handleClearOutput(event, handle) {\n",
       "    var cell = handle.cell;\n",
       "\n",
       "    var id = cell.output_area._bokeh_element_id;\n",
       "    var server_id = cell.output_area._bokeh_server_id;\n",
       "    // Clean up Bokeh references\n",
       "    if (id !== undefined) {\n",
       "      Bokeh.index[id].model.document.clear();\n",
       "      delete Bokeh.index[id];\n",
       "    }\n",
       "\n",
       "    if (server_id !== undefined) {\n",
       "      // Clean up Bokeh references\n",
       "      var cmd = \"from bokeh.io.state import curstate; print(curstate().uuid_to_server['\" + server_id + \"'].get_sessions()[0].document.roots[0]._id)\";\n",
       "      cell.notebook.kernel.execute(cmd, {\n",
       "        iopub: {\n",
       "          output: function(msg) {\n",
       "            var element_id = msg.content.text.trim();\n",
       "            Bokeh.index[element_id].model.document.clear();\n",
       "            delete Bokeh.index[element_id];\n",
       "          }\n",
       "        }\n",
       "      });\n",
       "      // Destroy server and session\n",
       "      var cmd = \"import bokeh.io.notebook as ion; ion.destroy_server('\" + server_id + \"')\";\n",
       "      cell.notebook.kernel.execute(cmd);\n",
       "    }\n",
       "  }\n",
       "\n",
       "  /**\n",
       "   * Handle when a new output is added\n",
       "   */\n",
       "  function handleAddOutput(event, handle) {\n",
       "    var output_area = handle.output_area;\n",
       "    var output = handle.output;\n",
       "\n",
       "    // limit handleAddOutput to display_data with EXEC_MIME_TYPE content only\n",
       "    if ((output.output_type != \"display_data\") || (!output.data.hasOwnProperty(EXEC_MIME_TYPE))) {\n",
       "      return\n",
       "    }\n",
       "\n",
       "    var toinsert = output_area.element.find(`.${CLASS_NAME.split(' ')[0]}`);\n",
       "\n",
       "    if (output.metadata[EXEC_MIME_TYPE][\"id\"] !== undefined) {\n",
       "      toinsert[0].firstChild.textContent = output.data[JS_MIME_TYPE];\n",
       "      // store reference to embed id on output_area\n",
       "      output_area._bokeh_element_id = output.metadata[EXEC_MIME_TYPE][\"id\"];\n",
       "    }\n",
       "    if (output.metadata[EXEC_MIME_TYPE][\"server_id\"] !== undefined) {\n",
       "      var bk_div = document.createElement(\"div\");\n",
       "      bk_div.innerHTML = output.data[HTML_MIME_TYPE];\n",
       "      var script_attrs = bk_div.children[0].attributes;\n",
       "      for (var i = 0; i < script_attrs.length; i++) {\n",
       "        toinsert[0].firstChild.setAttribute(script_attrs[i].name, script_attrs[i].value);\n",
       "      }\n",
       "      // store reference to server id on output_area\n",
       "      output_area._bokeh_server_id = output.metadata[EXEC_MIME_TYPE][\"server_id\"];\n",
       "    }\n",
       "  }\n",
       "\n",
       "  function register_renderer(events, OutputArea) {\n",
       "\n",
       "    function append_mime(data, metadata, element) {\n",
       "      // create a DOM node to render to\n",
       "      var toinsert = this.create_output_subarea(\n",
       "        metadata,\n",
       "        CLASS_NAME,\n",
       "        EXEC_MIME_TYPE\n",
       "      );\n",
       "      this.keyboard_manager.register_events(toinsert);\n",
       "      // Render to node\n",
       "      var props = {data: data, metadata: metadata[EXEC_MIME_TYPE]};\n",
       "      render(props, toinsert[0]);\n",
       "      element.append(toinsert);\n",
       "      return toinsert\n",
       "    }\n",
       "\n",
       "    /* Handle when an output is cleared or removed */\n",
       "    events.on('clear_output.CodeCell', handleClearOutput);\n",
       "    events.on('delete.Cell', handleClearOutput);\n",
       "\n",
       "    /* Handle when a new output is added */\n",
       "    events.on('output_added.OutputArea', handleAddOutput);\n",
       "\n",
       "    /**\n",
       "     * Register the mime type and append_mime function with output_area\n",
       "     */\n",
       "    OutputArea.prototype.register_mime_type(EXEC_MIME_TYPE, append_mime, {\n",
       "      /* Is output safe? */\n",
       "      safe: true,\n",
       "      /* Index of renderer in `output_area.display_order` */\n",
       "      index: 0\n",
       "    });\n",
       "  }\n",
       "\n",
       "  // register the mime type if in Jupyter Notebook environment and previously unregistered\n",
       "  if (root.Jupyter !== undefined) {\n",
       "    var events = require('base/js/events');\n",
       "    var OutputArea = require('notebook/js/outputarea').OutputArea;\n",
       "\n",
       "    if (OutputArea.prototype.mime_types().indexOf(EXEC_MIME_TYPE) == -1) {\n",
       "      register_renderer(events, OutputArea);\n",
       "    }\n",
       "  }\n",
       "\n",
       "  \n",
       "  if (typeof (root._bokeh_timeout) === \"undefined\" || force === true) {\n",
       "    root._bokeh_timeout = Date.now() + 5000;\n",
       "    root._bokeh_failed_load = false;\n",
       "  }\n",
       "\n",
       "  var NB_LOAD_WARNING = {'data': {'text/html':\n",
       "     \"<div style='background-color: #fdd'>\\n\"+\n",
       "     \"<p>\\n\"+\n",
       "     \"BokehJS does not appear to have successfully loaded. If loading BokehJS from CDN, this \\n\"+\n",
       "     \"may be due to a slow or bad network connection. Possible fixes:\\n\"+\n",
       "     \"</p>\\n\"+\n",
       "     \"<ul>\\n\"+\n",
       "     \"<li>re-rerun `output_notebook()` to attempt to load from CDN again, or</li>\\n\"+\n",
       "     \"<li>use INLINE resources instead, as so:</li>\\n\"+\n",
       "     \"</ul>\\n\"+\n",
       "     \"<code>\\n\"+\n",
       "     \"from bokeh.resources import INLINE\\n\"+\n",
       "     \"output_notebook(resources=INLINE)\\n\"+\n",
       "     \"</code>\\n\"+\n",
       "     \"</div>\"}};\n",
       "\n",
       "  function display_loaded() {\n",
       "    var el = document.getElementById(\"0e462cae-3ceb-4c12-acdd-2c55ac016ca1\");\n",
       "    if (el != null) {\n",
       "      el.textContent = \"BokehJS is loading...\";\n",
       "    }\n",
       "    if (root.Bokeh !== undefined) {\n",
       "      if (el != null) {\n",
       "        el.textContent = \"BokehJS \" + root.Bokeh.version + \" successfully loaded.\";\n",
       "      }\n",
       "    } else if (Date.now() < root._bokeh_timeout) {\n",
       "      setTimeout(display_loaded, 100)\n",
       "    }\n",
       "  }\n",
       "\n",
       "\n",
       "  function run_callbacks() {\n",
       "    try {\n",
       "      root._bokeh_onload_callbacks.forEach(function(callback) { callback() });\n",
       "    }\n",
       "    finally {\n",
       "      delete root._bokeh_onload_callbacks\n",
       "    }\n",
       "    console.info(\"Bokeh: all callbacks have finished\");\n",
       "  }\n",
       "\n",
       "  function load_libs(js_urls, callback) {\n",
       "    root._bokeh_onload_callbacks.push(callback);\n",
       "    if (root._bokeh_is_loading > 0) {\n",
       "      console.log(\"Bokeh: BokehJS is being loaded, scheduling callback at\", now());\n",
       "      return null;\n",
       "    }\n",
       "    if (js_urls == null || js_urls.length === 0) {\n",
       "      run_callbacks();\n",
       "      return null;\n",
       "    }\n",
       "    console.log(\"Bokeh: BokehJS not loaded, scheduling load and callback at\", now());\n",
       "    root._bokeh_is_loading = js_urls.length;\n",
       "    for (var i = 0; i < js_urls.length; i++) {\n",
       "      var url = js_urls[i];\n",
       "      var s = document.createElement('script');\n",
       "      s.src = url;\n",
       "      s.async = false;\n",
       "      s.onreadystatechange = s.onload = function() {\n",
       "        root._bokeh_is_loading--;\n",
       "        if (root._bokeh_is_loading === 0) {\n",
       "          console.log(\"Bokeh: all BokehJS libraries loaded\");\n",
       "          run_callbacks()\n",
       "        }\n",
       "      };\n",
       "      s.onerror = function() {\n",
       "        console.warn(\"failed to load library \" + url);\n",
       "      };\n",
       "      console.log(\"Bokeh: injecting script tag for BokehJS library: \", url);\n",
       "      document.getElementsByTagName(\"head\")[0].appendChild(s);\n",
       "    }\n",
       "  };var element = document.getElementById(\"0e462cae-3ceb-4c12-acdd-2c55ac016ca1\");\n",
       "  if (element == null) {\n",
       "    console.log(\"Bokeh: ERROR: autoload.js configured with elementid '0e462cae-3ceb-4c12-acdd-2c55ac016ca1' but no matching script tag was found. \")\n",
       "    return false;\n",
       "  }\n",
       "\n",
       "  var js_urls = [\"https://cdn.pydata.org/bokeh/release/bokeh-0.12.10.min.js\", \"https://cdn.pydata.org/bokeh/release/bokeh-widgets-0.12.10.min.js\", \"https://cdn.pydata.org/bokeh/release/bokeh-tables-0.12.10.min.js\", \"https://cdn.pydata.org/bokeh/release/bokeh-gl-0.12.10.min.js\"];\n",
       "\n",
       "  var inline_js = [\n",
       "    function(Bokeh) {\n",
       "      Bokeh.set_log_level(\"info\");\n",
       "    },\n",
       "    \n",
       "    function(Bokeh) {\n",
       "      \n",
       "    },\n",
       "    function(Bokeh) {\n",
       "      console.log(\"Bokeh: injecting CSS: https://cdn.pydata.org/bokeh/release/bokeh-0.12.10.min.css\");\n",
       "      Bokeh.embed.inject_css(\"https://cdn.pydata.org/bokeh/release/bokeh-0.12.10.min.css\");\n",
       "      console.log(\"Bokeh: injecting CSS: https://cdn.pydata.org/bokeh/release/bokeh-widgets-0.12.10.min.css\");\n",
       "      Bokeh.embed.inject_css(\"https://cdn.pydata.org/bokeh/release/bokeh-widgets-0.12.10.min.css\");\n",
       "      console.log(\"Bokeh: injecting CSS: https://cdn.pydata.org/bokeh/release/bokeh-tables-0.12.10.min.css\");\n",
       "      Bokeh.embed.inject_css(\"https://cdn.pydata.org/bokeh/release/bokeh-tables-0.12.10.min.css\");\n",
       "    }\n",
       "  ];\n",
       "\n",
       "  function run_inline_js() {\n",
       "    \n",
       "    if ((root.Bokeh !== undefined) || (force === true)) {\n",
       "      for (var i = 0; i < inline_js.length; i++) {\n",
       "        inline_js[i].call(root, root.Bokeh);\n",
       "      }if (force === true) {\n",
       "        display_loaded();\n",
       "      }} else if (Date.now() < root._bokeh_timeout) {\n",
       "      setTimeout(run_inline_js, 100);\n",
       "    } else if (!root._bokeh_failed_load) {\n",
       "      console.log(\"Bokeh: BokehJS failed to load within specified timeout.\");\n",
       "      root._bokeh_failed_load = true;\n",
       "    } else if (force !== true) {\n",
       "      var cell = $(document.getElementById(\"0e462cae-3ceb-4c12-acdd-2c55ac016ca1\")).parents('.cell').data().cell;\n",
       "      cell.output_area.append_execute_result(NB_LOAD_WARNING)\n",
       "    }\n",
       "\n",
       "  }\n",
       "\n",
       "  if (root._bokeh_is_loading === 0) {\n",
       "    console.log(\"Bokeh: BokehJS loaded, going straight to plotting\");\n",
       "    run_inline_js();\n",
       "  } else {\n",
       "    load_libs(js_urls, function() {\n",
       "      console.log(\"Bokeh: BokehJS plotting callback run at\", now());\n",
       "      run_inline_js();\n",
       "    });\n",
       "  }\n",
       "}(window));"
      ],
      "application/vnd.bokehjs_load.v0+json": "\n(function(root) {\n  function now() {\n    return new Date();\n  }\n\n  var force = true;\n\n  if (typeof (root._bokeh_onload_callbacks) === \"undefined\" || force === true) {\n    root._bokeh_onload_callbacks = [];\n    root._bokeh_is_loading = undefined;\n  }\n\n  \n\n  \n  if (typeof (root._bokeh_timeout) === \"undefined\" || force === true) {\n    root._bokeh_timeout = Date.now() + 5000;\n    root._bokeh_failed_load = false;\n  }\n\n  var NB_LOAD_WARNING = {'data': {'text/html':\n     \"<div style='background-color: #fdd'>\\n\"+\n     \"<p>\\n\"+\n     \"BokehJS does not appear to have successfully loaded. If loading BokehJS from CDN, this \\n\"+\n     \"may be due to a slow or bad network connection. Possible fixes:\\n\"+\n     \"</p>\\n\"+\n     \"<ul>\\n\"+\n     \"<li>re-rerun `output_notebook()` to attempt to load from CDN again, or</li>\\n\"+\n     \"<li>use INLINE resources instead, as so:</li>\\n\"+\n     \"</ul>\\n\"+\n     \"<code>\\n\"+\n     \"from bokeh.resources import INLINE\\n\"+\n     \"output_notebook(resources=INLINE)\\n\"+\n     \"</code>\\n\"+\n     \"</div>\"}};\n\n  function display_loaded() {\n    var el = document.getElementById(\"0e462cae-3ceb-4c12-acdd-2c55ac016ca1\");\n    if (el != null) {\n      el.textContent = \"BokehJS is loading...\";\n    }\n    if (root.Bokeh !== undefined) {\n      if (el != null) {\n        el.textContent = \"BokehJS \" + root.Bokeh.version + \" successfully loaded.\";\n      }\n    } else if (Date.now() < root._bokeh_timeout) {\n      setTimeout(display_loaded, 100)\n    }\n  }\n\n\n  function run_callbacks() {\n    try {\n      root._bokeh_onload_callbacks.forEach(function(callback) { callback() });\n    }\n    finally {\n      delete root._bokeh_onload_callbacks\n    }\n    console.info(\"Bokeh: all callbacks have finished\");\n  }\n\n  function load_libs(js_urls, callback) {\n    root._bokeh_onload_callbacks.push(callback);\n    if (root._bokeh_is_loading > 0) {\n      console.log(\"Bokeh: BokehJS is being loaded, scheduling callback at\", now());\n      return null;\n    }\n    if (js_urls == null || js_urls.length === 0) {\n      run_callbacks();\n      return null;\n    }\n    console.log(\"Bokeh: BokehJS not loaded, scheduling load and callback at\", now());\n    root._bokeh_is_loading = js_urls.length;\n    for (var i = 0; i < js_urls.length; i++) {\n      var url = js_urls[i];\n      var s = document.createElement('script');\n      s.src = url;\n      s.async = false;\n      s.onreadystatechange = s.onload = function() {\n        root._bokeh_is_loading--;\n        if (root._bokeh_is_loading === 0) {\n          console.log(\"Bokeh: all BokehJS libraries loaded\");\n          run_callbacks()\n        }\n      };\n      s.onerror = function() {\n        console.warn(\"failed to load library \" + url);\n      };\n      console.log(\"Bokeh: injecting script tag for BokehJS library: \", url);\n      document.getElementsByTagName(\"head\")[0].appendChild(s);\n    }\n  };var element = document.getElementById(\"0e462cae-3ceb-4c12-acdd-2c55ac016ca1\");\n  if (element == null) {\n    console.log(\"Bokeh: ERROR: autoload.js configured with elementid '0e462cae-3ceb-4c12-acdd-2c55ac016ca1' but no matching script tag was found. \")\n    return false;\n  }\n\n  var js_urls = [\"https://cdn.pydata.org/bokeh/release/bokeh-0.12.10.min.js\", \"https://cdn.pydata.org/bokeh/release/bokeh-widgets-0.12.10.min.js\", \"https://cdn.pydata.org/bokeh/release/bokeh-tables-0.12.10.min.js\", \"https://cdn.pydata.org/bokeh/release/bokeh-gl-0.12.10.min.js\"];\n\n  var inline_js = [\n    function(Bokeh) {\n      Bokeh.set_log_level(\"info\");\n    },\n    \n    function(Bokeh) {\n      \n    },\n    function(Bokeh) {\n      console.log(\"Bokeh: injecting CSS: https://cdn.pydata.org/bokeh/release/bokeh-0.12.10.min.css\");\n      Bokeh.embed.inject_css(\"https://cdn.pydata.org/bokeh/release/bokeh-0.12.10.min.css\");\n      console.log(\"Bokeh: injecting CSS: https://cdn.pydata.org/bokeh/release/bokeh-widgets-0.12.10.min.css\");\n      Bokeh.embed.inject_css(\"https://cdn.pydata.org/bokeh/release/bokeh-widgets-0.12.10.min.css\");\n      console.log(\"Bokeh: injecting CSS: https://cdn.pydata.org/bokeh/release/bokeh-tables-0.12.10.min.css\");\n      Bokeh.embed.inject_css(\"https://cdn.pydata.org/bokeh/release/bokeh-tables-0.12.10.min.css\");\n    }\n  ];\n\n  function run_inline_js() {\n    \n    if ((root.Bokeh !== undefined) || (force === true)) {\n      for (var i = 0; i < inline_js.length; i++) {\n        inline_js[i].call(root, root.Bokeh);\n      }if (force === true) {\n        display_loaded();\n      }} else if (Date.now() < root._bokeh_timeout) {\n      setTimeout(run_inline_js, 100);\n    } else if (!root._bokeh_failed_load) {\n      console.log(\"Bokeh: BokehJS failed to load within specified timeout.\");\n      root._bokeh_failed_load = true;\n    } else if (force !== true) {\n      var cell = $(document.getElementById(\"0e462cae-3ceb-4c12-acdd-2c55ac016ca1\")).parents('.cell').data().cell;\n      cell.output_area.append_execute_result(NB_LOAD_WARNING)\n    }\n\n  }\n\n  if (root._bokeh_is_loading === 0) {\n    console.log(\"Bokeh: BokehJS loaded, going straight to plotting\");\n    run_inline_js();\n  } else {\n    load_libs(js_urls, function() {\n      console.log(\"Bokeh: BokehJS plotting callback run at\", now());\n      run_inline_js();\n    });\n  }\n}(window));"
     },
     "metadata": {},
     "output_type": "display_data"
    },
    {
     "data": {
      "text/html": [
       "\n",
       "<div class=\"bk-root\">\n",
       "    <div class=\"bk-plotdiv\" id=\"4421dfcb-960b-4d4c-a75e-c84fb896bdad\"></div>\n",
       "</div>"
      ]
     },
     "metadata": {},
     "output_type": "display_data"
    },
    {
     "data": {
      "application/javascript": [
       "(function(root) {\n",
       "  function embed_document(root) {\n",
       "    var docs_json = {\"bed5addc-f959-4a3b-bfc0-835b79e45e2e\":{\"roots\":{\"references\":[{\"attributes\":{\"fill_alpha\":{\"value\":0.1},\"fill_color\":{\"value\":\"#1f77b4\"},\"line_alpha\":{\"value\":0.1},\"line_color\":{\"value\":\"#1f77b4\"},\"size\":{\"units\":\"screen\",\"value\":8},\"x\":{\"field\":\"x1\"},\"y\":{\"field\":\"x2\"}},\"id\":\"ccd41c70-230c-49bd-930a-3a46b16bc6dd\",\"type\":\"Circle\"},{\"attributes\":{},\"id\":\"8e1f6345-1a4b-4ad9-90fc-513094555ed5\",\"type\":\"PanTool\"},{\"attributes\":{\"data_source\":{\"id\":\"fa6b05a6-3796-4f79-8d47-da06fb21eb54\",\"type\":\"ColumnDataSource\"},\"glyph\":{\"id\":\"5c890150-16a7-4581-8aba-abea1a23732c\",\"type\":\"Circle\"},\"hover_glyph\":null,\"muted_glyph\":null,\"nonselection_glyph\":{\"id\":\"ccd41c70-230c-49bd-930a-3a46b16bc6dd\",\"type\":\"Circle\"},\"selection_glyph\":null,\"view\":{\"id\":\"ae0ca8b6-96d1-4602-8690-124818a1c215\",\"type\":\"CDSView\"}},\"id\":\"cd1b2b1b-26db-44cf-8a2f-ca35ff625248\",\"type\":\"GlyphRenderer\"},{\"attributes\":{},\"id\":\"f69c3089-d53e-44d1-b510-d5602339bbfb\",\"type\":\"WheelZoomTool\"},{\"attributes\":{\"plot\":null,\"text\":\"word2vec T-SNE (eng model, top1000 words)\"},\"id\":\"4214123c-bf03-438d-b19d-efe4655c67a9\",\"type\":\"Title\"},{\"attributes\":{},\"id\":\"cb13ef4f-f14d-40f9-9c0a-f9040ed121a9\",\"type\":\"ResetTool\"},{\"attributes\":{},\"id\":\"3c01e18c-038f-40ee-a06a-8bdd9f401179\",\"type\":\"LinearScale\"},{\"attributes\":{},\"id\":\"eb7046bc-3825-49c7-99a3-bd6f81276346\",\"type\":\"SaveTool\"},{\"attributes\":{\"callback\":null},\"id\":\"889a97e2-2289-414c-90c1-8f14d1a2f848\",\"type\":\"DataRange1d\"},{\"attributes\":{\"active_drag\":\"auto\",\"active_inspect\":\"auto\",\"active_scroll\":\"auto\",\"active_tap\":\"auto\",\"tools\":[{\"id\":\"8e1f6345-1a4b-4ad9-90fc-513094555ed5\",\"type\":\"PanTool\"},{\"id\":\"f69c3089-d53e-44d1-b510-d5602339bbfb\",\"type\":\"WheelZoomTool\"},{\"id\":\"cb13ef4f-f14d-40f9-9c0a-f9040ed121a9\",\"type\":\"ResetTool\"},{\"id\":\"eb7046bc-3825-49c7-99a3-bd6f81276346\",\"type\":\"SaveTool\"}]},\"id\":\"4f2ec4d9-cb27-40ec-b626-5113454809db\",\"type\":\"Toolbar\"},{\"attributes\":{\"callback\":null,\"column_names\":[\"x1\",\"x2\",\"names\"],\"data\":{\"names\":[\"the\",\"and\",\"a\",\"of\",\"to\",\"is\",\"it\",\"in\",\"i\",\"this\",\"that\",\"s\",\"was\",\"as\",\"with\",\"for\",\"movie\",\"but\",\"film\",\"you\",\"t\",\"on\",\"not\",\"he\",\"are\",\"his\",\"have\",\"be\",\"one\",\"all\",\"at\",\"they\",\"by\",\"who\",\"an\",\"from\",\"so\",\"like\",\"there\",\"her\",\"or\",\"just\",\"about\",\"out\",\"has\",\"if\",\"what\",\"some\",\"good\",\"can\",\"more\",\"when\",\"very\",\"she\",\"up\",\"no\",\"time\",\"even\",\"would\",\"my\",\"which\",\"their\",\"story\",\"only\",\"really\",\"see\",\"had\",\"were\",\"well\",\"we\",\"me\",\"than\",\"much\",\"bad\",\"get\",\"been\",\"people\",\"also\",\"into\",\"do\",\"great\",\"other\",\"will\",\"first\",\"because\",\"him\",\"how\",\"most\",\"don\",\"them\",\"made\",\"its\",\"make\",\"then\",\"way\",\"could\",\"too\",\"movies\",\"after\",\"any\",\"characters\",\"character\",\"think\",\"films\",\"two\",\"watch\",\"being\",\"many\",\"plot\",\"seen\",\"never\",\"where\",\"love\",\"life\",\"little\",\"acting\",\"best\",\"did\",\"over\",\"off\",\"know\",\"show\",\"ever\",\"does\",\"man\",\"better\",\"your\",\"here\",\"end\",\"scene\",\"these\",\"still\",\"while\",\"why\",\"scenes\",\"say\",\"something\",\"go\",\"ve\",\"m\",\"should\",\"such\",\"back\",\"through\",\"real\",\"those\",\"now\",\"re\",\"watching\",\"doesn\",\"thing\",\"though\",\"director\",\"years\",\"actors\",\"funny\",\"old\",\"didn\",\"another\",\"new\",\"nothing\",\"makes\",\"work\",\"actually\",\"going\",\"before\",\"look\",\"find\",\"same\",\"lot\",\"few\",\"part\",\"every\",\"again\",\"world\",\"cast\",\"us\",\"things\",\"horror\",\"quite\",\"want\",\"action\",\"down\",\"pretty\",\"young\",\"around\",\"seems\",\"fact\",\"take\",\"however\",\"enough\",\"got\",\"long\",\"both\",\"thought\",\"big\",\"own\",\"give\",\"between\",\"d\",\"comedy\",\"series\",\"must\",\"may\",\"right\",\"original\",\"without\",\"role\",\"interesting\",\"come\",\"times\",\"always\",\"isn\",\"guy\",\"saw\",\"whole\",\"gets\",\"least\",\"point\",\"almost\",\"bit\",\"script\",\"music\",\"done\",\"last\",\"minutes\",\"far\",\"family\",\"feel\",\"since\",\"making\",\"ll\",\"girl\",\"might\",\"performance\",\"anything\",\"yet\",\"away\",\"probably\",\"am\",\"woman\",\"tv\",\"kind\",\"hard\",\"fun\",\"rather\",\"day\",\"worst\",\"sure\",\"played\",\"anyone\",\"each\",\"found\",\"especially\",\"having\",\"our\",\"trying\",\"screen\",\"looking\",\"believe\",\"different\",\"although\",\"place\",\"course\",\"goes\",\"sense\",\"set\",\"comes\",\"ending\",\"maybe\",\"shows\",\"worth\",\"american\",\"three\",\"dvd\",\"money\",\"put\",\"looks\",\"once\",\"everything\",\"actor\",\"someone\",\"let\",\"plays\",\"effects\",\"main\",\"john\",\"wasn\",\"year\",\"together\",\"reason\",\"book\",\"true\",\"everyone\",\"during\",\"instead\",\"takes\",\"said\",\"job\",\"high\",\"play\",\"special\",\"seem\",\"war\",\"night\",\"watched\",\"later\",\"audience\",\"wife\",\"himself\",\"star\",\"black\",\"half\",\"seeing\",\"left\",\"death\",\"idea\",\"excellent\",\"beautiful\",\"shot\",\"house\",\"second\",\"father\",\"simply\",\"used\",\"men\",\"dead\",\"else\",\"mind\",\"version\",\"less\",\"completely\",\"hollywood\",\"nice\",\"poor\",\"fan\",\"budget\",\"women\",\"help\",\"home\",\"line\",\"sex\",\"boring\",\"performances\",\"along\",\"try\",\"top\",\"either\",\"short\",\"read\",\"low\",\"wrong\",\"use\",\"until\",\"friends\",\"camera\",\"kids\",\"given\",\"couple\",\"next\",\"need\",\"start\",\"enjoy\",\"full\",\"classic\",\"production\",\"rest\",\"truly\",\"perhaps\",\"stupid\",\"awful\",\"school\",\"moments\",\"video\",\"mother\",\"tell\",\"mean\",\"getting\",\"keep\",\"face\",\"came\",\"won\",\"understand\",\"small\",\"terrible\",\"others\",\"recommend\",\"name\",\"style\",\"playing\",\"itself\",\"boy\",\"wonderful\",\"doing\",\"stars\",\"remember\",\"person\",\"definitely\",\"gives\",\"often\",\"lost\",\"dialogue\",\"written\",\"live\",\"early\",\"lines\",\"perfect\",\"human\",\"case\",\"entertaining\",\"head\",\"yes\",\"become\",\"went\",\"couldn\",\"hope\",\"title\",\"episode\",\"children\",\"liked\",\"friend\",\"certainly\",\"based\",\"supposed\",\"picture\",\"piece\",\"problem\",\"finally\",\"against\",\"absolutely\",\"oh\",\"drama\",\"fans\",\"sort\",\"several\",\"overall\",\"cinema\",\"entire\",\"felt\",\"under\",\"son\",\"worse\",\"laugh\",\"called\",\"evil\",\"direction\",\"lives\",\"waste\",\"killer\",\"lead\",\"humor\",\"guys\",\"care\",\"beginning\",\"white\",\"dark\",\"game\",\"despite\",\"seemed\",\"final\",\"b\",\"becomes\",\"wanted\",\"unfortunately\",\"mr\",\"throughout\",\"loved\",\"totally\",\"history\",\"already\",\"genre\",\"turn\",\"town\",\"guess\",\"fine\",\"able\",\"days\",\"heart\",\"city\",\"flick\",\"act\",\"run\",\"side\",\"wants\",\"quality\",\"today\",\"tries\",\"child\",\"hand\",\"sound\",\"close\",\"kill\",\"horrible\",\"past\",\"example\",\"starts\",\"writing\",\"viewer\",\"turns\",\"themselves\",\"amazing\",\"enjoyed\",\"etc\",\"car\",\"parts\",\"behind\",\"directed\",\"works\",\"expect\",\"michael\",\"killed\",\"matter\",\"daughter\",\"fight\",\"favorite\",\"soon\",\"kid\",\"self\",\"decent\",\"stuff\",\"gave\",\"blood\",\"sometimes\",\"type\",\"actress\",\"eyes\",\"thinking\",\"group\",\"girls\",\"art\",\"violence\",\"obviously\",\"brilliant\",\"stop\",\"stories\",\"late\",\"hour\",\"known\",\"myself\",\"except\",\"writer\",\"happened\",\"hero\",\"god\",\"says\",\"feeling\",\"highly\",\"heard\",\"coming\",\"roles\",\"extremely\",\"police\",\"took\",\"happens\",\"slow\",\"leave\",\"experience\",\"moment\",\"husband\",\"anyway\",\"voice\",\"hell\",\"wouldn\",\"murder\",\"attempt\",\"involved\",\"age\",\"obvious\",\"living\",\"interest\",\"including\",\"score\",\"strong\",\"looked\",\"taken\",\"told\",\"david\",\"save\",\"brother\",\"ok\",\"wonder\",\"none\",\"happen\",\"cut\",\"hours\",\"career\",\"please\",\"cool\",\"robert\",\"chance\",\"particularly\",\"gore\",\"james\",\"cannot\",\"simple\",\"hit\",\"across\",\"ago\",\"complete\",\"exactly\",\"lack\",\"hilarious\",\"crap\",\"o\",\"annoying\",\"possible\",\"alone\",\"power\",\"relationship\",\"light\",\"serious\",\"sad\",\"level\",\"important\",\"running\",\"documentary\",\"seriously\",\"usually\",\"whose\",\"female\",\"reality\",\"ends\",\"scary\",\"somewhat\",\"order\",\"talent\",\"happy\",\"finds\",\"taking\",\"song\",\"middle\",\"number\",\"shown\",\"ridiculous\",\"room\",\"strange\",\"change\",\"call\",\"basically\",\"released\",\"usual\",\"body\",\"opening\",\"jokes\",\"turned\",\"mostly\",\"english\",\"country\",\"wish\",\"yourself\",\"apparently\",\"cinematography\",\"opinion\",\"silly\",\"novel\",\"attention\",\"view\",\"four\",\"started\",\"word\",\"saying\",\"jack\",\"disappointed\",\"miss\",\"sequel\",\"single\",\"talking\",\"huge\",\"thriller\",\"future\",\"clich\",\"shots\",\"words\",\"major\",\"cheap\",\"straight\",\"non\",\"clearly\",\"rating\",\"modern\",\"beyond\",\"knows\",\"knew\",\"ones\",\"due\",\"fast\",\"problems\",\"events\",\"british\",\"sets\",\"king\",\"talk\",\"tells\",\"comic\",\"french\",\"parents\",\"bring\",\"die\",\"easily\",\"aren\",\"entertainment\",\"local\",\"earth\",\"add\",\"class\",\"sequence\",\"upon\",\"george\",\"above\",\"musical\",\"television\",\"within\",\"giving\",\"falls\",\"similar\",\"york\",\"storyline\",\"ten\",\"supporting\",\"clear\",\"mystery\",\"haven\",\"easy\",\"appears\",\"hate\",\"romantic\",\"five\",\"predictable\",\"review\",\"near\",\"typical\",\"lots\",\"ways\",\"bunch\",\"team\",\"enjoyable\",\"begins\",\"named\",\"dialog\",\"general\",\"stand\",\"crime\",\"working\",\"elements\",\"mention\",\"eye\",\"message\",\"e\",\"theme\",\"filmed\",\"richard\",\"episodes\",\"points\",\"certain\",\"avoid\",\"songs\",\"red\",\"america\",\"sorry\",\"tale\",\"whether\",\"gay\",\"release\",\"dull\",\"surprised\",\"moving\",\"among\",\"tom\",\"th\",\"viewers\",\"stay\",\"de\",\"using\",\"minute\",\"needs\",\"fall\",\"effort\",\"feels\",\"gone\",\"space\",\"lee\",\"leads\",\"kept\",\"paul\",\"nearly\",\"theater\",\"tried\",\"herself\",\"comments\",\"means\",\"peter\",\"period\",\"showing\",\"third\",\"truth\",\"sister\",\"brought\",\"suspense\",\"buy\",\"doubt\",\"soundtrack\",\"lady\",\"somehow\",\"killing\",\"feature\",\"follow\",\"sequences\",\"viewing\",\"fantastic\",\"editing\",\"form\",\"famous\",\"material\",\"realistic\",\"rent\",\"average\",\"cop\",\"okay\",\"dog\",\"check\",\"whatever\",\"monster\",\"rock\",\"imagine\",\"reviews\",\"move\",\"figure\",\"oscar\",\"surprise\",\"forget\",\"lame\",\"premise\",\"believable\",\"fi\",\"weak\",\"indeed\",\"animation\",\"deal\",\"poorly\",\"sci\",\"free\",\"possibly\",\"actual\",\"expected\",\"learn\",\"hear\",\"eventually\",\"dr\",\"stage\",\"forced\",\"sexual\",\"note\",\"atmosphere\",\"deep\",\"society\",\"greatest\",\"sit\",\"otherwise\",\"open\",\"wait\",\"leaves\",\"difficult\",\"question\",\"romance\",\"decided\",\"screenplay\",\"begin\",\"reading\",\"plus\",\"joe\",\"situation\",\"western\",\"became\",\"subject\",\"particular\",\"earlier\",\"hot\",\"nor\",\"male\",\"towards\",\"box\",\"gun\",\"crew\",\"brothers\",\"interested\",\"personal\",\"acted\",\"street\",\"meet\",\"credits\",\"previous\",\"cheesy\",\"footage\",\"business\",\"powerful\",\"memorable\",\"worked\",\"battle\",\"shame\",\"writers\",\"mess\",\"effect\",\"laughs\",\"season\",\"whom\",\"result\",\"features\",\"dramatic\",\"older\",\"air\",\"setting\",\"perfectly\",\"unless\",\"era\",\"quickly\",\"imdb\",\"needed\",\"keeps\",\"nature\",\"hands\",\"boys\",\"baby\",\"bill\",\"crazy\",\"badly\",\"total\",\"background\",\"directing\",\"realize\",\"emotional\",\"mark\",\"comment\",\"forward\",\"present\",\"japanese\",\"appear\",\"twist\",\"development\",\"girlfriend\",\"pay\",\"telling\",\"write\",\"superb\",\"rich\",\"various\",\"meets\",\"c\",\"unique\",\"dance\",\"weird\",\"island\",\"william\",\"directors\",\"plenty\",\"break\",\"secret\",\"fighting\",\"disney\",\"front\",\"brings\",\"apart\",\"sounds\",\"masterpiece\",\"doctor\",\"fairly\",\"incredibly\",\"villain\",\"outside\",\"dream\",\"married\",\"missing\",\"leading\",\"party\",\"manages\",\"return\",\"beauty\",\"remake\",\"reasons\",\"inside\",\"zombie\",\"fantasy\",\"admit\",\"rate\",\"ideas\",\"list\",\"political\",\"create\",\"ask\",\"creepy\",\"meant\",\"joke\",\"unlike\",\"potential\",\"cute\",\"dumb\",\"success\",\"copy\",\"portrayed\",\"nudity\",\"fails\"],\"x1\":{\"__ndarray__\":\"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\",\"dtype\":\"float32\",\"shape\":[1000]},\"x2\":{\"__ndarray__\":\"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\",\"dtype\":\"float32\",\"shape\":[1000]}}},\"id\":\"fa6b05a6-3796-4f79-8d47-da06fb21eb54\",\"type\":\"ColumnDataSource\"},{\"attributes\":{\"source\":{\"id\":\"fa6b05a6-3796-4f79-8d47-da06fb21eb54\",\"type\":\"ColumnDataSource\"}},\"id\":\"ae0ca8b6-96d1-4602-8690-124818a1c215\",\"type\":\"CDSView\"},{\"attributes\":{\"callback\":null},\"id\":\"1220295d-4bf6-4b65-9ebe-e4e9f654cbb0\",\"type\":\"DataRange1d\"},{\"attributes\":{},\"id\":\"2f42f687-82ec-42c6-9539-41b5f155f2bb\",\"type\":\"LinearScale\"},{\"attributes\":{},\"id\":\"17c62079-36c8-43bf-866b-ee7a057cb09f\",\"type\":\"BasicTickFormatter\"},{\"attributes\":{\"plot\":{\"id\":\"b5c4fcf8-b98e-44d5-869c-1e3338df47ba\",\"subtype\":\"Figure\",\"type\":\"Plot\"},\"ticker\":{\"id\":\"6aa046ac-bb27-4841-bba3-99d6e794c70f\",\"type\":\"BasicTicker\"}},\"id\":\"7998175f-096f-4a56-bd07-7d2bc2110ecb\",\"type\":\"Grid\"},{\"attributes\":{\"plot\":{\"id\":\"b5c4fcf8-b98e-44d5-869c-1e3338df47ba\",\"subtype\":\"Figure\",\"type\":\"Plot\"},\"source\":{\"id\":\"fa6b05a6-3796-4f79-8d47-da06fb21eb54\",\"type\":\"ColumnDataSource\"},\"text\":{\"field\":\"names\"},\"text_align\":\"center\",\"text_color\":{\"value\":\"#555555\"},\"text_font_size\":{\"value\":\"8pt\"},\"x\":{\"field\":\"x1\"},\"y\":{\"field\":\"x2\"},\"y_offset\":{\"value\":6}},\"id\":\"97695ec3-a872-4564-a9d6-51a3224433d4\",\"type\":\"LabelSet\"},{\"attributes\":{},\"id\":\"79ae9f60-74e9-4cf1-a49d-49692d468038\",\"type\":\"BasicTickFormatter\"},{\"attributes\":{\"formatter\":{\"id\":\"79ae9f60-74e9-4cf1-a49d-49692d468038\",\"type\":\"BasicTickFormatter\"},\"plot\":{\"id\":\"b5c4fcf8-b98e-44d5-869c-1e3338df47ba\",\"subtype\":\"Figure\",\"type\":\"Plot\"},\"ticker\":{\"id\":\"6aa046ac-bb27-4841-bba3-99d6e794c70f\",\"type\":\"BasicTicker\"}},\"id\":\"18840bdc-60aa-4f01-890a-0825124021b1\",\"type\":\"LinearAxis\"},{\"attributes\":{},\"id\":\"6aa046ac-bb27-4841-bba3-99d6e794c70f\",\"type\":\"BasicTicker\"},{\"attributes\":{\"below\":[{\"id\":\"18840bdc-60aa-4f01-890a-0825124021b1\",\"type\":\"LinearAxis\"}],\"left\":[{\"id\":\"8fdf3429-3897-471f-8ec9-5a868aa0b2b5\",\"type\":\"LinearAxis\"}],\"renderers\":[{\"id\":\"18840bdc-60aa-4f01-890a-0825124021b1\",\"type\":\"LinearAxis\"},{\"id\":\"7998175f-096f-4a56-bd07-7d2bc2110ecb\",\"type\":\"Grid\"},{\"id\":\"8fdf3429-3897-471f-8ec9-5a868aa0b2b5\",\"type\":\"LinearAxis\"},{\"id\":\"7f26d9a9-12d8-4166-83a3-fd1a6bba0a3d\",\"type\":\"Grid\"},{\"id\":\"cd1b2b1b-26db-44cf-8a2f-ca35ff625248\",\"type\":\"GlyphRenderer\"},{\"id\":\"97695ec3-a872-4564-a9d6-51a3224433d4\",\"type\":\"LabelSet\"}],\"title\":{\"id\":\"4214123c-bf03-438d-b19d-efe4655c67a9\",\"type\":\"Title\"},\"toolbar\":{\"id\":\"4f2ec4d9-cb27-40ec-b626-5113454809db\",\"type\":\"Toolbar\"},\"toolbar_location\":\"above\",\"x_range\":{\"id\":\"889a97e2-2289-414c-90c1-8f14d1a2f848\",\"type\":\"DataRange1d\"},\"x_scale\":{\"id\":\"3c01e18c-038f-40ee-a06a-8bdd9f401179\",\"type\":\"LinearScale\"},\"y_range\":{\"id\":\"1220295d-4bf6-4b65-9ebe-e4e9f654cbb0\",\"type\":\"DataRange1d\"},\"y_scale\":{\"id\":\"2f42f687-82ec-42c6-9539-41b5f155f2bb\",\"type\":\"LinearScale\"}},\"id\":\"b5c4fcf8-b98e-44d5-869c-1e3338df47ba\",\"subtype\":\"Figure\",\"type\":\"Plot\"},{\"attributes\":{\"formatter\":{\"id\":\"17c62079-36c8-43bf-866b-ee7a057cb09f\",\"type\":\"BasicTickFormatter\"},\"plot\":{\"id\":\"b5c4fcf8-b98e-44d5-869c-1e3338df47ba\",\"subtype\":\"Figure\",\"type\":\"Plot\"},\"ticker\":{\"id\":\"25f33362-1352-4ff3-8a81-f5e868dcd765\",\"type\":\"BasicTicker\"}},\"id\":\"8fdf3429-3897-471f-8ec9-5a868aa0b2b5\",\"type\":\"LinearAxis\"},{\"attributes\":{},\"id\":\"25f33362-1352-4ff3-8a81-f5e868dcd765\",\"type\":\"BasicTicker\"},{\"attributes\":{\"dimension\":1,\"plot\":{\"id\":\"b5c4fcf8-b98e-44d5-869c-1e3338df47ba\",\"subtype\":\"Figure\",\"type\":\"Plot\"},\"ticker\":{\"id\":\"25f33362-1352-4ff3-8a81-f5e868dcd765\",\"type\":\"BasicTicker\"}},\"id\":\"7f26d9a9-12d8-4166-83a3-fd1a6bba0a3d\",\"type\":\"Grid\"},{\"attributes\":{\"fill_color\":{\"value\":\"#1f77b4\"},\"line_color\":{\"value\":\"#1f77b4\"},\"size\":{\"units\":\"screen\",\"value\":8},\"x\":{\"field\":\"x1\"},\"y\":{\"field\":\"x2\"}},\"id\":\"5c890150-16a7-4581-8aba-abea1a23732c\",\"type\":\"Circle\"}],\"root_ids\":[\"b5c4fcf8-b98e-44d5-869c-1e3338df47ba\"]},\"title\":\"Bokeh Application\",\"version\":\"0.12.10\"}};\n",
       "    var render_items = [{\"docid\":\"bed5addc-f959-4a3b-bfc0-835b79e45e2e\",\"elementid\":\"4421dfcb-960b-4d4c-a75e-c84fb896bdad\",\"modelid\":\"b5c4fcf8-b98e-44d5-869c-1e3338df47ba\"}];\n",
       "\n",
       "    root.Bokeh.embed.embed_items(docs_json, render_items);\n",
       "  }\n",
       "\n",
       "  if (root.Bokeh !== undefined) {\n",
       "    embed_document(root);\n",
       "  } else {\n",
       "    var attempts = 0;\n",
       "    var timer = setInterval(function(root) {\n",
       "      if (root.Bokeh !== undefined) {\n",
       "        embed_document(root);\n",
       "        clearInterval(timer);\n",
       "      }\n",
       "      attempts++;\n",
       "      if (attempts > 100) {\n",
       "        console.log(\"Bokeh: ERROR: Unable to embed document because BokehJS library is missing\")\n",
       "        clearInterval(timer);\n",
       "      }\n",
       "    }, 10, root)\n",
       "  }\n",
       "})(window);"
      ],
      "application/vnd.bokehjs_exec.v0+json": ""
     },
     "metadata": {
      "application/vnd.bokehjs_exec.v0+json": {
       "id": "b5c4fcf8-b98e-44d5-869c-1e3338df47ba"
      }
     },
     "output_type": "display_data"
    }
   ],
   "source": [
    "from bokeh.models import ColumnDataSource, LabelSet\n",
    "from bokeh.plotting import figure, show, output_file\n",
    "from bokeh.io import output_notebook\n",
    "output_notebook()\n",
    "\n",
    "p = figure(tools=\"pan,wheel_zoom,reset,save\",\n",
    "           toolbar_location=\"above\",\n",
    "           title=\"word2vec T-SNE (eng model, top1000 words)\")\n",
    "\n",
    "source = ColumnDataSource(data=dict(x1=top_words_tsne[:,0],\n",
    "                                    x2=top_words_tsne[:,1],\n",
    "                                    names=top_words))\n",
    "\n",
    "p.scatter(x=\"x1\", y=\"x2\", size=8, source=source)\n",
    "\n",
    "labels = LabelSet(x=\"x1\", y=\"x2\", text=\"names\", y_offset=6,\n",
    "                  text_font_size=\"8pt\", text_color=\"#555555\",\n",
    "                  source=source, text_align='center')\n",
    "p.add_layout(labels)\n",
    "\n",
    "show(p)"
   ]
  },
  {
   "cell_type": "markdown",
   "metadata": {},
   "source": [
    "Чтобы вычислить преобразование t-SNE быстрее (и иногда еще и эффективнее), можно сперва снизить размерность исходных данных с помощью, например, SVD, и потом применять t-SNE:"
   ]
  },
  {
   "cell_type": "code",
   "execution_count": 42,
   "metadata": {},
   "outputs": [],
   "source": [
    "from sklearn.decomposition import TruncatedSVD\n",
    "\n",
    "svd_50 = TruncatedSVD(n_components=50)\n",
    "top_words_vec_50 = svd_50.fit_transform(top_words_vec)\n",
    "top_words_tsne2 = TSNE(n_components=2, random_state=0).fit_transform(top_words_vec_50)"
   ]
  },
  {
   "cell_type": "code",
   "execution_count": 43,
   "metadata": {},
   "outputs": [
    {
     "data": {
      "text/html": [
       "\n",
       "    <div class=\"bk-root\">\n",
       "        <a href=\"https://bokeh.pydata.org\" target=\"_blank\" class=\"bk-logo bk-logo-small bk-logo-notebook\"></a>\n",
       "        <span id=\"4a2c77ab-157d-4021-89cf-bc0611d0c458\">Loading BokehJS ...</span>\n",
       "    </div>"
      ]
     },
     "metadata": {},
     "output_type": "display_data"
    },
    {
     "data": {
      "application/javascript": [
       "\n",
       "(function(root) {\n",
       "  function now() {\n",
       "    return new Date();\n",
       "  }\n",
       "\n",
       "  var force = true;\n",
       "\n",
       "  if (typeof (root._bokeh_onload_callbacks) === \"undefined\" || force === true) {\n",
       "    root._bokeh_onload_callbacks = [];\n",
       "    root._bokeh_is_loading = undefined;\n",
       "  }\n",
       "\n",
       "  var JS_MIME_TYPE = 'application/javascript';\n",
       "  var HTML_MIME_TYPE = 'text/html';\n",
       "  var EXEC_MIME_TYPE = 'application/vnd.bokehjs_exec.v0+json';\n",
       "  var CLASS_NAME = 'output_bokeh rendered_html';\n",
       "\n",
       "  /**\n",
       "   * Render data to the DOM node\n",
       "   */\n",
       "  function render(props, node) {\n",
       "    var script = document.createElement(\"script\");\n",
       "    node.appendChild(script);\n",
       "  }\n",
       "\n",
       "  /**\n",
       "   * Handle when an output is cleared or removed\n",
       "   */\n",
       "  function handleClearOutput(event, handle) {\n",
       "    var cell = handle.cell;\n",
       "\n",
       "    var id = cell.output_area._bokeh_element_id;\n",
       "    var server_id = cell.output_area._bokeh_server_id;\n",
       "    // Clean up Bokeh references\n",
       "    if (id !== undefined) {\n",
       "      Bokeh.index[id].model.document.clear();\n",
       "      delete Bokeh.index[id];\n",
       "    }\n",
       "\n",
       "    if (server_id !== undefined) {\n",
       "      // Clean up Bokeh references\n",
       "      var cmd = \"from bokeh.io.state import curstate; print(curstate().uuid_to_server['\" + server_id + \"'].get_sessions()[0].document.roots[0]._id)\";\n",
       "      cell.notebook.kernel.execute(cmd, {\n",
       "        iopub: {\n",
       "          output: function(msg) {\n",
       "            var element_id = msg.content.text.trim();\n",
       "            Bokeh.index[element_id].model.document.clear();\n",
       "            delete Bokeh.index[element_id];\n",
       "          }\n",
       "        }\n",
       "      });\n",
       "      // Destroy server and session\n",
       "      var cmd = \"import bokeh.io.notebook as ion; ion.destroy_server('\" + server_id + \"')\";\n",
       "      cell.notebook.kernel.execute(cmd);\n",
       "    }\n",
       "  }\n",
       "\n",
       "  /**\n",
       "   * Handle when a new output is added\n",
       "   */\n",
       "  function handleAddOutput(event, handle) {\n",
       "    var output_area = handle.output_area;\n",
       "    var output = handle.output;\n",
       "\n",
       "    // limit handleAddOutput to display_data with EXEC_MIME_TYPE content only\n",
       "    if ((output.output_type != \"display_data\") || (!output.data.hasOwnProperty(EXEC_MIME_TYPE))) {\n",
       "      return\n",
       "    }\n",
       "\n",
       "    var toinsert = output_area.element.find(`.${CLASS_NAME.split(' ')[0]}`);\n",
       "\n",
       "    if (output.metadata[EXEC_MIME_TYPE][\"id\"] !== undefined) {\n",
       "      toinsert[0].firstChild.textContent = output.data[JS_MIME_TYPE];\n",
       "      // store reference to embed id on output_area\n",
       "      output_area._bokeh_element_id = output.metadata[EXEC_MIME_TYPE][\"id\"];\n",
       "    }\n",
       "    if (output.metadata[EXEC_MIME_TYPE][\"server_id\"] !== undefined) {\n",
       "      var bk_div = document.createElement(\"div\");\n",
       "      bk_div.innerHTML = output.data[HTML_MIME_TYPE];\n",
       "      var script_attrs = bk_div.children[0].attributes;\n",
       "      for (var i = 0; i < script_attrs.length; i++) {\n",
       "        toinsert[0].firstChild.setAttribute(script_attrs[i].name, script_attrs[i].value);\n",
       "      }\n",
       "      // store reference to server id on output_area\n",
       "      output_area._bokeh_server_id = output.metadata[EXEC_MIME_TYPE][\"server_id\"];\n",
       "    }\n",
       "  }\n",
       "\n",
       "  function register_renderer(events, OutputArea) {\n",
       "\n",
       "    function append_mime(data, metadata, element) {\n",
       "      // create a DOM node to render to\n",
       "      var toinsert = this.create_output_subarea(\n",
       "        metadata,\n",
       "        CLASS_NAME,\n",
       "        EXEC_MIME_TYPE\n",
       "      );\n",
       "      this.keyboard_manager.register_events(toinsert);\n",
       "      // Render to node\n",
       "      var props = {data: data, metadata: metadata[EXEC_MIME_TYPE]};\n",
       "      render(props, toinsert[0]);\n",
       "      element.append(toinsert);\n",
       "      return toinsert\n",
       "    }\n",
       "\n",
       "    /* Handle when an output is cleared or removed */\n",
       "    events.on('clear_output.CodeCell', handleClearOutput);\n",
       "    events.on('delete.Cell', handleClearOutput);\n",
       "\n",
       "    /* Handle when a new output is added */\n",
       "    events.on('output_added.OutputArea', handleAddOutput);\n",
       "\n",
       "    /**\n",
       "     * Register the mime type and append_mime function with output_area\n",
       "     */\n",
       "    OutputArea.prototype.register_mime_type(EXEC_MIME_TYPE, append_mime, {\n",
       "      /* Is output safe? */\n",
       "      safe: true,\n",
       "      /* Index of renderer in `output_area.display_order` */\n",
       "      index: 0\n",
       "    });\n",
       "  }\n",
       "\n",
       "  // register the mime type if in Jupyter Notebook environment and previously unregistered\n",
       "  if (root.Jupyter !== undefined) {\n",
       "    var events = require('base/js/events');\n",
       "    var OutputArea = require('notebook/js/outputarea').OutputArea;\n",
       "\n",
       "    if (OutputArea.prototype.mime_types().indexOf(EXEC_MIME_TYPE) == -1) {\n",
       "      register_renderer(events, OutputArea);\n",
       "    }\n",
       "  }\n",
       "\n",
       "  \n",
       "  if (typeof (root._bokeh_timeout) === \"undefined\" || force === true) {\n",
       "    root._bokeh_timeout = Date.now() + 5000;\n",
       "    root._bokeh_failed_load = false;\n",
       "  }\n",
       "\n",
       "  var NB_LOAD_WARNING = {'data': {'text/html':\n",
       "     \"<div style='background-color: #fdd'>\\n\"+\n",
       "     \"<p>\\n\"+\n",
       "     \"BokehJS does not appear to have successfully loaded. If loading BokehJS from CDN, this \\n\"+\n",
       "     \"may be due to a slow or bad network connection. Possible fixes:\\n\"+\n",
       "     \"</p>\\n\"+\n",
       "     \"<ul>\\n\"+\n",
       "     \"<li>re-rerun `output_notebook()` to attempt to load from CDN again, or</li>\\n\"+\n",
       "     \"<li>use INLINE resources instead, as so:</li>\\n\"+\n",
       "     \"</ul>\\n\"+\n",
       "     \"<code>\\n\"+\n",
       "     \"from bokeh.resources import INLINE\\n\"+\n",
       "     \"output_notebook(resources=INLINE)\\n\"+\n",
       "     \"</code>\\n\"+\n",
       "     \"</div>\"}};\n",
       "\n",
       "  function display_loaded() {\n",
       "    var el = document.getElementById(\"4a2c77ab-157d-4021-89cf-bc0611d0c458\");\n",
       "    if (el != null) {\n",
       "      el.textContent = \"BokehJS is loading...\";\n",
       "    }\n",
       "    if (root.Bokeh !== undefined) {\n",
       "      if (el != null) {\n",
       "        el.textContent = \"BokehJS \" + root.Bokeh.version + \" successfully loaded.\";\n",
       "      }\n",
       "    } else if (Date.now() < root._bokeh_timeout) {\n",
       "      setTimeout(display_loaded, 100)\n",
       "    }\n",
       "  }\n",
       "\n",
       "\n",
       "  function run_callbacks() {\n",
       "    try {\n",
       "      root._bokeh_onload_callbacks.forEach(function(callback) { callback() });\n",
       "    }\n",
       "    finally {\n",
       "      delete root._bokeh_onload_callbacks\n",
       "    }\n",
       "    console.info(\"Bokeh: all callbacks have finished\");\n",
       "  }\n",
       "\n",
       "  function load_libs(js_urls, callback) {\n",
       "    root._bokeh_onload_callbacks.push(callback);\n",
       "    if (root._bokeh_is_loading > 0) {\n",
       "      console.log(\"Bokeh: BokehJS is being loaded, scheduling callback at\", now());\n",
       "      return null;\n",
       "    }\n",
       "    if (js_urls == null || js_urls.length === 0) {\n",
       "      run_callbacks();\n",
       "      return null;\n",
       "    }\n",
       "    console.log(\"Bokeh: BokehJS not loaded, scheduling load and callback at\", now());\n",
       "    root._bokeh_is_loading = js_urls.length;\n",
       "    for (var i = 0; i < js_urls.length; i++) {\n",
       "      var url = js_urls[i];\n",
       "      var s = document.createElement('script');\n",
       "      s.src = url;\n",
       "      s.async = false;\n",
       "      s.onreadystatechange = s.onload = function() {\n",
       "        root._bokeh_is_loading--;\n",
       "        if (root._bokeh_is_loading === 0) {\n",
       "          console.log(\"Bokeh: all BokehJS libraries loaded\");\n",
       "          run_callbacks()\n",
       "        }\n",
       "      };\n",
       "      s.onerror = function() {\n",
       "        console.warn(\"failed to load library \" + url);\n",
       "      };\n",
       "      console.log(\"Bokeh: injecting script tag for BokehJS library: \", url);\n",
       "      document.getElementsByTagName(\"head\")[0].appendChild(s);\n",
       "    }\n",
       "  };var element = document.getElementById(\"4a2c77ab-157d-4021-89cf-bc0611d0c458\");\n",
       "  if (element == null) {\n",
       "    console.log(\"Bokeh: ERROR: autoload.js configured with elementid '4a2c77ab-157d-4021-89cf-bc0611d0c458' but no matching script tag was found. \")\n",
       "    return false;\n",
       "  }\n",
       "\n",
       "  var js_urls = [\"https://cdn.pydata.org/bokeh/release/bokeh-0.12.10.min.js\", \"https://cdn.pydata.org/bokeh/release/bokeh-widgets-0.12.10.min.js\", \"https://cdn.pydata.org/bokeh/release/bokeh-tables-0.12.10.min.js\", \"https://cdn.pydata.org/bokeh/release/bokeh-gl-0.12.10.min.js\"];\n",
       "\n",
       "  var inline_js = [\n",
       "    function(Bokeh) {\n",
       "      Bokeh.set_log_level(\"info\");\n",
       "    },\n",
       "    \n",
       "    function(Bokeh) {\n",
       "      \n",
       "    },\n",
       "    function(Bokeh) {\n",
       "      console.log(\"Bokeh: injecting CSS: https://cdn.pydata.org/bokeh/release/bokeh-0.12.10.min.css\");\n",
       "      Bokeh.embed.inject_css(\"https://cdn.pydata.org/bokeh/release/bokeh-0.12.10.min.css\");\n",
       "      console.log(\"Bokeh: injecting CSS: https://cdn.pydata.org/bokeh/release/bokeh-widgets-0.12.10.min.css\");\n",
       "      Bokeh.embed.inject_css(\"https://cdn.pydata.org/bokeh/release/bokeh-widgets-0.12.10.min.css\");\n",
       "      console.log(\"Bokeh: injecting CSS: https://cdn.pydata.org/bokeh/release/bokeh-tables-0.12.10.min.css\");\n",
       "      Bokeh.embed.inject_css(\"https://cdn.pydata.org/bokeh/release/bokeh-tables-0.12.10.min.css\");\n",
       "    }\n",
       "  ];\n",
       "\n",
       "  function run_inline_js() {\n",
       "    \n",
       "    if ((root.Bokeh !== undefined) || (force === true)) {\n",
       "      for (var i = 0; i < inline_js.length; i++) {\n",
       "        inline_js[i].call(root, root.Bokeh);\n",
       "      }if (force === true) {\n",
       "        display_loaded();\n",
       "      }} else if (Date.now() < root._bokeh_timeout) {\n",
       "      setTimeout(run_inline_js, 100);\n",
       "    } else if (!root._bokeh_failed_load) {\n",
       "      console.log(\"Bokeh: BokehJS failed to load within specified timeout.\");\n",
       "      root._bokeh_failed_load = true;\n",
       "    } else if (force !== true) {\n",
       "      var cell = $(document.getElementById(\"4a2c77ab-157d-4021-89cf-bc0611d0c458\")).parents('.cell').data().cell;\n",
       "      cell.output_area.append_execute_result(NB_LOAD_WARNING)\n",
       "    }\n",
       "\n",
       "  }\n",
       "\n",
       "  if (root._bokeh_is_loading === 0) {\n",
       "    console.log(\"Bokeh: BokehJS loaded, going straight to plotting\");\n",
       "    run_inline_js();\n",
       "  } else {\n",
       "    load_libs(js_urls, function() {\n",
       "      console.log(\"Bokeh: BokehJS plotting callback run at\", now());\n",
       "      run_inline_js();\n",
       "    });\n",
       "  }\n",
       "}(window));"
      ],
      "application/vnd.bokehjs_load.v0+json": "\n(function(root) {\n  function now() {\n    return new Date();\n  }\n\n  var force = true;\n\n  if (typeof (root._bokeh_onload_callbacks) === \"undefined\" || force === true) {\n    root._bokeh_onload_callbacks = [];\n    root._bokeh_is_loading = undefined;\n  }\n\n  \n\n  \n  if (typeof (root._bokeh_timeout) === \"undefined\" || force === true) {\n    root._bokeh_timeout = Date.now() + 5000;\n    root._bokeh_failed_load = false;\n  }\n\n  var NB_LOAD_WARNING = {'data': {'text/html':\n     \"<div style='background-color: #fdd'>\\n\"+\n     \"<p>\\n\"+\n     \"BokehJS does not appear to have successfully loaded. If loading BokehJS from CDN, this \\n\"+\n     \"may be due to a slow or bad network connection. Possible fixes:\\n\"+\n     \"</p>\\n\"+\n     \"<ul>\\n\"+\n     \"<li>re-rerun `output_notebook()` to attempt to load from CDN again, or</li>\\n\"+\n     \"<li>use INLINE resources instead, as so:</li>\\n\"+\n     \"</ul>\\n\"+\n     \"<code>\\n\"+\n     \"from bokeh.resources import INLINE\\n\"+\n     \"output_notebook(resources=INLINE)\\n\"+\n     \"</code>\\n\"+\n     \"</div>\"}};\n\n  function display_loaded() {\n    var el = document.getElementById(\"4a2c77ab-157d-4021-89cf-bc0611d0c458\");\n    if (el != null) {\n      el.textContent = \"BokehJS is loading...\";\n    }\n    if (root.Bokeh !== undefined) {\n      if (el != null) {\n        el.textContent = \"BokehJS \" + root.Bokeh.version + \" successfully loaded.\";\n      }\n    } else if (Date.now() < root._bokeh_timeout) {\n      setTimeout(display_loaded, 100)\n    }\n  }\n\n\n  function run_callbacks() {\n    try {\n      root._bokeh_onload_callbacks.forEach(function(callback) { callback() });\n    }\n    finally {\n      delete root._bokeh_onload_callbacks\n    }\n    console.info(\"Bokeh: all callbacks have finished\");\n  }\n\n  function load_libs(js_urls, callback) {\n    root._bokeh_onload_callbacks.push(callback);\n    if (root._bokeh_is_loading > 0) {\n      console.log(\"Bokeh: BokehJS is being loaded, scheduling callback at\", now());\n      return null;\n    }\n    if (js_urls == null || js_urls.length === 0) {\n      run_callbacks();\n      return null;\n    }\n    console.log(\"Bokeh: BokehJS not loaded, scheduling load and callback at\", now());\n    root._bokeh_is_loading = js_urls.length;\n    for (var i = 0; i < js_urls.length; i++) {\n      var url = js_urls[i];\n      var s = document.createElement('script');\n      s.src = url;\n      s.async = false;\n      s.onreadystatechange = s.onload = function() {\n        root._bokeh_is_loading--;\n        if (root._bokeh_is_loading === 0) {\n          console.log(\"Bokeh: all BokehJS libraries loaded\");\n          run_callbacks()\n        }\n      };\n      s.onerror = function() {\n        console.warn(\"failed to load library \" + url);\n      };\n      console.log(\"Bokeh: injecting script tag for BokehJS library: \", url);\n      document.getElementsByTagName(\"head\")[0].appendChild(s);\n    }\n  };var element = document.getElementById(\"4a2c77ab-157d-4021-89cf-bc0611d0c458\");\n  if (element == null) {\n    console.log(\"Bokeh: ERROR: autoload.js configured with elementid '4a2c77ab-157d-4021-89cf-bc0611d0c458' but no matching script tag was found. \")\n    return false;\n  }\n\n  var js_urls = [\"https://cdn.pydata.org/bokeh/release/bokeh-0.12.10.min.js\", \"https://cdn.pydata.org/bokeh/release/bokeh-widgets-0.12.10.min.js\", \"https://cdn.pydata.org/bokeh/release/bokeh-tables-0.12.10.min.js\", \"https://cdn.pydata.org/bokeh/release/bokeh-gl-0.12.10.min.js\"];\n\n  var inline_js = [\n    function(Bokeh) {\n      Bokeh.set_log_level(\"info\");\n    },\n    \n    function(Bokeh) {\n      \n    },\n    function(Bokeh) {\n      console.log(\"Bokeh: injecting CSS: https://cdn.pydata.org/bokeh/release/bokeh-0.12.10.min.css\");\n      Bokeh.embed.inject_css(\"https://cdn.pydata.org/bokeh/release/bokeh-0.12.10.min.css\");\n      console.log(\"Bokeh: injecting CSS: https://cdn.pydata.org/bokeh/release/bokeh-widgets-0.12.10.min.css\");\n      Bokeh.embed.inject_css(\"https://cdn.pydata.org/bokeh/release/bokeh-widgets-0.12.10.min.css\");\n      console.log(\"Bokeh: injecting CSS: https://cdn.pydata.org/bokeh/release/bokeh-tables-0.12.10.min.css\");\n      Bokeh.embed.inject_css(\"https://cdn.pydata.org/bokeh/release/bokeh-tables-0.12.10.min.css\");\n    }\n  ];\n\n  function run_inline_js() {\n    \n    if ((root.Bokeh !== undefined) || (force === true)) {\n      for (var i = 0; i < inline_js.length; i++) {\n        inline_js[i].call(root, root.Bokeh);\n      }if (force === true) {\n        display_loaded();\n      }} else if (Date.now() < root._bokeh_timeout) {\n      setTimeout(run_inline_js, 100);\n    } else if (!root._bokeh_failed_load) {\n      console.log(\"Bokeh: BokehJS failed to load within specified timeout.\");\n      root._bokeh_failed_load = true;\n    } else if (force !== true) {\n      var cell = $(document.getElementById(\"4a2c77ab-157d-4021-89cf-bc0611d0c458\")).parents('.cell').data().cell;\n      cell.output_area.append_execute_result(NB_LOAD_WARNING)\n    }\n\n  }\n\n  if (root._bokeh_is_loading === 0) {\n    console.log(\"Bokeh: BokehJS loaded, going straight to plotting\");\n    run_inline_js();\n  } else {\n    load_libs(js_urls, function() {\n      console.log(\"Bokeh: BokehJS plotting callback run at\", now());\n      run_inline_js();\n    });\n  }\n}(window));"
     },
     "metadata": {},
     "output_type": "display_data"
    },
    {
     "data": {
      "text/html": [
       "\n",
       "<div class=\"bk-root\">\n",
       "    <div class=\"bk-plotdiv\" id=\"6fd5705d-e7c2-41c4-8ad1-fbdaeb303fb8\"></div>\n",
       "</div>"
      ]
     },
     "metadata": {},
     "output_type": "display_data"
    },
    {
     "data": {
      "application/javascript": [
       "(function(root) {\n",
       "  function embed_document(root) {\n",
       "    var docs_json = {\"8d63f088-5422-40e3-bae0-098928870cb8\":{\"roots\":{\"references\":[{\"attributes\":{},\"id\":\"78e6fdc6-9114-4dad-bcf0-435200e9e9f3\",\"type\":\"LinearScale\"},{\"attributes\":{\"fill_color\":{\"value\":\"#1f77b4\"},\"line_color\":{\"value\":\"#1f77b4\"},\"size\":{\"units\":\"screen\",\"value\":8},\"x\":{\"field\":\"x1\"},\"y\":{\"field\":\"x2\"}},\"id\":\"6f3bed23-64f4-40f6-93eb-4d9741100752\",\"type\":\"Circle\"},{\"attributes\":{},\"id\":\"f0659263-85db-48ad-8cd4-a5526a9b748b\",\"type\":\"PanTool\"},{\"attributes\":{},\"id\":\"e07c1c3b-23f4-4bd3-8daf-238700334b98\",\"type\":\"LinearScale\"},{\"attributes\":{},\"id\":\"3b94acef-2d58-4bc3-ae66-609a1046f20e\",\"type\":\"WheelZoomTool\"},{\"attributes\":{\"dimension\":1,\"plot\":{\"id\":\"d5a68c9e-b26e-4b00-be9b-9da706743c93\",\"subtype\":\"Figure\",\"type\":\"Plot\"},\"ticker\":{\"id\":\"2340c280-7fa8-472a-b78a-d973a44b4587\",\"type\":\"BasicTicker\"}},\"id\":\"69229cf5-36b4-4812-b504-79d3b5ac247d\",\"type\":\"Grid\"},{\"attributes\":{},\"id\":\"15d0c94f-52e9-4f92-92b0-5d6c8fca7f8c\",\"type\":\"ResetTool\"},{\"attributes\":{\"formatter\":{\"id\":\"eb050475-6cbc-4623-aa36-b39d50c10ccd\",\"type\":\"BasicTickFormatter\"},\"plot\":{\"id\":\"d5a68c9e-b26e-4b00-be9b-9da706743c93\",\"subtype\":\"Figure\",\"type\":\"Plot\"},\"ticker\":{\"id\":\"2340c280-7fa8-472a-b78a-d973a44b4587\",\"type\":\"BasicTicker\"}},\"id\":\"eab64888-e4d6-442d-bd5b-e93a66601796\",\"type\":\"LinearAxis\"},{\"attributes\":{},\"id\":\"928df5c5-2ced-4f55-99bb-d6208957bc77\",\"type\":\"SaveTool\"},{\"attributes\":{\"callback\":null},\"id\":\"8cf6ed9e-85f6-4aad-9db3-8812df4aafde\",\"type\":\"DataRange1d\"},{\"attributes\":{},\"id\":\"2340c280-7fa8-472a-b78a-d973a44b4587\",\"type\":\"BasicTicker\"},{\"attributes\":{\"data_source\":{\"id\":\"6e59b382-2245-4f6e-a3ee-390bed0047b9\",\"type\":\"ColumnDataSource\"},\"glyph\":{\"id\":\"6f3bed23-64f4-40f6-93eb-4d9741100752\",\"type\":\"Circle\"},\"hover_glyph\":null,\"muted_glyph\":null,\"nonselection_glyph\":{\"id\":\"a1a0104d-9299-46b0-8d94-cc9cf84e4c5d\",\"type\":\"Circle\"},\"selection_glyph\":null,\"view\":{\"id\":\"cd566935-dc34-4140-afac-030088a2fb48\",\"type\":\"CDSView\"}},\"id\":\"e8587004-3c8c-4cc9-9170-0ff4bcc68d94\",\"type\":\"GlyphRenderer\"},{\"attributes\":{\"callback\":null},\"id\":\"0d80b9f6-f6a8-4fe0-9d98-e86b396aa360\",\"type\":\"DataRange1d\"},{\"attributes\":{\"callback\":null,\"column_names\":[\"x1\",\"x2\",\"names\"],\"data\":{\"names\":[\"the\",\"and\",\"a\",\"of\",\"to\",\"is\",\"it\",\"in\",\"i\",\"this\",\"that\",\"s\",\"was\",\"as\",\"with\",\"for\",\"movie\",\"but\",\"film\",\"you\",\"t\",\"on\",\"not\",\"he\",\"are\",\"his\",\"have\",\"be\",\"one\",\"all\",\"at\",\"they\",\"by\",\"who\",\"an\",\"from\",\"so\",\"like\",\"there\",\"her\",\"or\",\"just\",\"about\",\"out\",\"has\",\"if\",\"what\",\"some\",\"good\",\"can\",\"more\",\"when\",\"very\",\"she\",\"up\",\"no\",\"time\",\"even\",\"would\",\"my\",\"which\",\"their\",\"story\",\"only\",\"really\",\"see\",\"had\",\"were\",\"well\",\"we\",\"me\",\"than\",\"much\",\"bad\",\"get\",\"been\",\"people\",\"also\",\"into\",\"do\",\"great\",\"other\",\"will\",\"first\",\"because\",\"him\",\"how\",\"most\",\"don\",\"them\",\"made\",\"its\",\"make\",\"then\",\"way\",\"could\",\"too\",\"movies\",\"after\",\"any\",\"characters\",\"character\",\"think\",\"films\",\"two\",\"watch\",\"being\",\"many\",\"plot\",\"seen\",\"never\",\"where\",\"love\",\"life\",\"little\",\"acting\",\"best\",\"did\",\"over\",\"off\",\"know\",\"show\",\"ever\",\"does\",\"man\",\"better\",\"your\",\"here\",\"end\",\"scene\",\"these\",\"still\",\"while\",\"why\",\"scenes\",\"say\",\"something\",\"go\",\"ve\",\"m\",\"should\",\"such\",\"back\",\"through\",\"real\",\"those\",\"now\",\"re\",\"watching\",\"doesn\",\"thing\",\"though\",\"director\",\"years\",\"actors\",\"funny\",\"old\",\"didn\",\"another\",\"new\",\"nothing\",\"makes\",\"work\",\"actually\",\"going\",\"before\",\"look\",\"find\",\"same\",\"lot\",\"few\",\"part\",\"every\",\"again\",\"world\",\"cast\",\"us\",\"things\",\"horror\",\"quite\",\"want\",\"action\",\"down\",\"pretty\",\"young\",\"around\",\"seems\",\"fact\",\"take\",\"however\",\"enough\",\"got\",\"long\",\"both\",\"thought\",\"big\",\"own\",\"give\",\"between\",\"d\",\"comedy\",\"series\",\"must\",\"may\",\"right\",\"original\",\"without\",\"role\",\"interesting\",\"come\",\"times\",\"always\",\"isn\",\"guy\",\"saw\",\"whole\",\"gets\",\"least\",\"point\",\"almost\",\"bit\",\"script\",\"music\",\"done\",\"last\",\"minutes\",\"far\",\"family\",\"feel\",\"since\",\"making\",\"ll\",\"girl\",\"might\",\"performance\",\"anything\",\"yet\",\"away\",\"probably\",\"am\",\"woman\",\"tv\",\"kind\",\"hard\",\"fun\",\"rather\",\"day\",\"worst\",\"sure\",\"played\",\"anyone\",\"each\",\"found\",\"especially\",\"having\",\"our\",\"trying\",\"screen\",\"looking\",\"believe\",\"different\",\"although\",\"place\",\"course\",\"goes\",\"sense\",\"set\",\"comes\",\"ending\",\"maybe\",\"shows\",\"worth\",\"american\",\"three\",\"dvd\",\"money\",\"put\",\"looks\",\"once\",\"everything\",\"actor\",\"someone\",\"let\",\"plays\",\"effects\",\"main\",\"john\",\"wasn\",\"year\",\"together\",\"reason\",\"book\",\"true\",\"everyone\",\"during\",\"instead\",\"takes\",\"said\",\"job\",\"high\",\"play\",\"special\",\"seem\",\"war\",\"night\",\"watched\",\"later\",\"audience\",\"wife\",\"himself\",\"star\",\"black\",\"half\",\"seeing\",\"left\",\"death\",\"idea\",\"excellent\",\"beautiful\",\"shot\",\"house\",\"second\",\"father\",\"simply\",\"used\",\"men\",\"dead\",\"else\",\"mind\",\"version\",\"less\",\"completely\",\"hollywood\",\"nice\",\"poor\",\"fan\",\"budget\",\"women\",\"help\",\"home\",\"line\",\"sex\",\"boring\",\"performances\",\"along\",\"try\",\"top\",\"either\",\"short\",\"read\",\"low\",\"wrong\",\"use\",\"until\",\"friends\",\"camera\",\"kids\",\"given\",\"couple\",\"next\",\"need\",\"start\",\"enjoy\",\"full\",\"classic\",\"production\",\"rest\",\"truly\",\"perhaps\",\"stupid\",\"awful\",\"school\",\"moments\",\"video\",\"mother\",\"tell\",\"mean\",\"getting\",\"keep\",\"face\",\"came\",\"won\",\"understand\",\"small\",\"terrible\",\"others\",\"recommend\",\"name\",\"style\",\"playing\",\"itself\",\"boy\",\"wonderful\",\"doing\",\"stars\",\"remember\",\"person\",\"definitely\",\"gives\",\"often\",\"lost\",\"dialogue\",\"written\",\"live\",\"early\",\"lines\",\"perfect\",\"human\",\"case\",\"entertaining\",\"head\",\"yes\",\"become\",\"went\",\"couldn\",\"hope\",\"title\",\"episode\",\"children\",\"liked\",\"friend\",\"certainly\",\"based\",\"supposed\",\"picture\",\"piece\",\"problem\",\"finally\",\"against\",\"absolutely\",\"oh\",\"drama\",\"fans\",\"sort\",\"several\",\"overall\",\"cinema\",\"entire\",\"felt\",\"under\",\"son\",\"worse\",\"laugh\",\"called\",\"evil\",\"direction\",\"lives\",\"waste\",\"killer\",\"lead\",\"humor\",\"guys\",\"care\",\"beginning\",\"white\",\"dark\",\"game\",\"despite\",\"seemed\",\"final\",\"b\",\"becomes\",\"wanted\",\"unfortunately\",\"mr\",\"throughout\",\"loved\",\"totally\",\"history\",\"already\",\"genre\",\"turn\",\"town\",\"guess\",\"fine\",\"able\",\"days\",\"heart\",\"city\",\"flick\",\"act\",\"run\",\"side\",\"wants\",\"quality\",\"today\",\"tries\",\"child\",\"hand\",\"sound\",\"close\",\"kill\",\"horrible\",\"past\",\"example\",\"starts\",\"writing\",\"viewer\",\"turns\",\"themselves\",\"amazing\",\"enjoyed\",\"etc\",\"car\",\"parts\",\"behind\",\"directed\",\"works\",\"expect\",\"michael\",\"killed\",\"matter\",\"daughter\",\"fight\",\"favorite\",\"soon\",\"kid\",\"self\",\"decent\",\"stuff\",\"gave\",\"blood\",\"sometimes\",\"type\",\"actress\",\"eyes\",\"thinking\",\"group\",\"girls\",\"art\",\"violence\",\"obviously\",\"brilliant\",\"stop\",\"stories\",\"late\",\"hour\",\"known\",\"myself\",\"except\",\"writer\",\"happened\",\"hero\",\"god\",\"says\",\"feeling\",\"highly\",\"heard\",\"coming\",\"roles\",\"extremely\",\"police\",\"took\",\"happens\",\"slow\",\"leave\",\"experience\",\"moment\",\"husband\",\"anyway\",\"voice\",\"hell\",\"wouldn\",\"murder\",\"attempt\",\"involved\",\"age\",\"obvious\",\"living\",\"interest\",\"including\",\"score\",\"strong\",\"looked\",\"taken\",\"told\",\"david\",\"save\",\"brother\",\"ok\",\"wonder\",\"none\",\"happen\",\"cut\",\"hours\",\"career\",\"please\",\"cool\",\"robert\",\"chance\",\"particularly\",\"gore\",\"james\",\"cannot\",\"simple\",\"hit\",\"across\",\"ago\",\"complete\",\"exactly\",\"lack\",\"hilarious\",\"crap\",\"o\",\"annoying\",\"possible\",\"alone\",\"power\",\"relationship\",\"light\",\"serious\",\"sad\",\"level\",\"important\",\"running\",\"documentary\",\"seriously\",\"usually\",\"whose\",\"female\",\"reality\",\"ends\",\"scary\",\"somewhat\",\"order\",\"talent\",\"happy\",\"finds\",\"taking\",\"song\",\"middle\",\"number\",\"shown\",\"ridiculous\",\"room\",\"strange\",\"change\",\"call\",\"basically\",\"released\",\"usual\",\"body\",\"opening\",\"jokes\",\"turned\",\"mostly\",\"english\",\"country\",\"wish\",\"yourself\",\"apparently\",\"cinematography\",\"opinion\",\"silly\",\"novel\",\"attention\",\"view\",\"four\",\"started\",\"word\",\"saying\",\"jack\",\"disappointed\",\"miss\",\"sequel\",\"single\",\"talking\",\"huge\",\"thriller\",\"future\",\"clich\",\"shots\",\"words\",\"major\",\"cheap\",\"straight\",\"non\",\"clearly\",\"rating\",\"modern\",\"beyond\",\"knows\",\"knew\",\"ones\",\"due\",\"fast\",\"problems\",\"events\",\"british\",\"sets\",\"king\",\"talk\",\"tells\",\"comic\",\"french\",\"parents\",\"bring\",\"die\",\"easily\",\"aren\",\"entertainment\",\"local\",\"earth\",\"add\",\"class\",\"sequence\",\"upon\",\"george\",\"above\",\"musical\",\"television\",\"within\",\"giving\",\"falls\",\"similar\",\"york\",\"storyline\",\"ten\",\"supporting\",\"clear\",\"mystery\",\"haven\",\"easy\",\"appears\",\"hate\",\"romantic\",\"five\",\"predictable\",\"review\",\"near\",\"typical\",\"lots\",\"ways\",\"bunch\",\"team\",\"enjoyable\",\"begins\",\"named\",\"dialog\",\"general\",\"stand\",\"crime\",\"working\",\"elements\",\"mention\",\"eye\",\"message\",\"e\",\"theme\",\"filmed\",\"richard\",\"episodes\",\"points\",\"certain\",\"avoid\",\"songs\",\"red\",\"america\",\"sorry\",\"tale\",\"whether\",\"gay\",\"release\",\"dull\",\"surprised\",\"moving\",\"among\",\"tom\",\"th\",\"viewers\",\"stay\",\"de\",\"using\",\"minute\",\"needs\",\"fall\",\"effort\",\"feels\",\"gone\",\"space\",\"lee\",\"leads\",\"kept\",\"paul\",\"nearly\",\"theater\",\"tried\",\"herself\",\"comments\",\"means\",\"peter\",\"period\",\"showing\",\"third\",\"truth\",\"sister\",\"brought\",\"suspense\",\"buy\",\"doubt\",\"soundtrack\",\"lady\",\"somehow\",\"killing\",\"feature\",\"follow\",\"sequences\",\"viewing\",\"fantastic\",\"editing\",\"form\",\"famous\",\"material\",\"realistic\",\"rent\",\"average\",\"cop\",\"okay\",\"dog\",\"check\",\"whatever\",\"monster\",\"rock\",\"imagine\",\"reviews\",\"move\",\"figure\",\"oscar\",\"surprise\",\"forget\",\"lame\",\"premise\",\"believable\",\"fi\",\"weak\",\"indeed\",\"animation\",\"deal\",\"poorly\",\"sci\",\"free\",\"possibly\",\"actual\",\"expected\",\"learn\",\"hear\",\"eventually\",\"dr\",\"stage\",\"forced\",\"sexual\",\"note\",\"atmosphere\",\"deep\",\"society\",\"greatest\",\"sit\",\"otherwise\",\"open\",\"wait\",\"leaves\",\"difficult\",\"question\",\"romance\",\"decided\",\"screenplay\",\"begin\",\"reading\",\"plus\",\"joe\",\"situation\",\"western\",\"became\",\"subject\",\"particular\",\"earlier\",\"hot\",\"nor\",\"male\",\"towards\",\"box\",\"gun\",\"crew\",\"brothers\",\"interested\",\"personal\",\"acted\",\"street\",\"meet\",\"credits\",\"previous\",\"cheesy\",\"footage\",\"business\",\"powerful\",\"memorable\",\"worked\",\"battle\",\"shame\",\"writers\",\"mess\",\"effect\",\"laughs\",\"season\",\"whom\",\"result\",\"features\",\"dramatic\",\"older\",\"air\",\"setting\",\"perfectly\",\"unless\",\"era\",\"quickly\",\"imdb\",\"needed\",\"keeps\",\"nature\",\"hands\",\"boys\",\"baby\",\"bill\",\"crazy\",\"badly\",\"total\",\"background\",\"directing\",\"realize\",\"emotional\",\"mark\",\"comment\",\"forward\",\"present\",\"japanese\",\"appear\",\"twist\",\"development\",\"girlfriend\",\"pay\",\"telling\",\"write\",\"superb\",\"rich\",\"various\",\"meets\",\"c\",\"unique\",\"dance\",\"weird\",\"island\",\"william\",\"directors\",\"plenty\",\"break\",\"secret\",\"fighting\",\"disney\",\"front\",\"brings\",\"apart\",\"sounds\",\"masterpiece\",\"doctor\",\"fairly\",\"incredibly\",\"villain\",\"outside\",\"dream\",\"married\",\"missing\",\"leading\",\"party\",\"manages\",\"return\",\"beauty\",\"remake\",\"reasons\",\"inside\",\"zombie\",\"fantasy\",\"admit\",\"rate\",\"ideas\",\"list\",\"political\",\"create\",\"ask\",\"creepy\",\"meant\",\"joke\",\"unlike\",\"potential\",\"cute\",\"dumb\",\"success\",\"copy\",\"portrayed\",\"nudity\",\"fails\"],\"x1\":{\"__ndarray__\":\"sZQhQSc8ZsHUnzBBkICPwfx7H8FV6c7B2ERnQRQzlsGYmbBBibRaQRdyd0HNL8rB5ntwwcAK7EB6/ZXBlJ2UwRyJq0FM+X5BSGupQVEGuUEbfCxB0azGwZx8NkH6CgFCLNgrwdWlAEJj5v7AU7s0wLvVK0GCti1B5i2TweppFcJRoavBvzP0wXuOP0Hfs5zBdQFUQbvdLsDybVlBBSH1QT5SDkEG9j5BpSZXQDs95cGgXLDBYY+GQYq7nEGoe8dA00dbP11xH0LJdehBL1WCwUltaUFWlflBpLnrwV5NjEHFU6PBkz4YQUWqIEJK8ptBMO5uQbvCFMJVUK1BmR9EQR1ZPUHkVwnAR5luwUUqNsHEBodAzuKsQbRgqkHuAtvBWU9SQD4R2UCZXFlAAv9hwZI3r0GaillAF8/SwWoDm8F2CJG/dqijPv9VJEJVaAVBURiBQVNvAkJfc5NB0o8yQShY9UHwgBTC/CB3waxL0MHS4NNAoIpRwYATir5HUR5C9Wp+QU01/0GOsJLBQp+KQR1D4UFw0FRBuoYDwS87/0FpAAdAGVetvqZvnMGxl1VAzCSnQQ/9nMFleTlBxSCCwdPiQ8G8+HfAVEEvQSr81EFIkfxAuQM1wZvJwMGX3t/BwaTiwOHuFUKeRgZBikzVwVnU2EHY9fNBM2LDQfPZCkE/Z3FBxuI1QVKYkz9BwgtBJitywZveiUEFVQFCIn/6wFmgqEEQBZdAKFj/wMWSqb4QSCBCXfxwQLew1sF4O83BrB4bwFRXYz/ZlSjBcdghwSQTo0AxxO5BvqexQVDbaUFhcqdBYxS3wWQQ+cAlkoBAZSOgQCVf/UFUSypBUSj/wGNUq0Ed+NzBQTurQY93HEHM0ijBebKQwfBc1j93X6C+ubAbQRpd60DSBJBAp5X+vx8xHkE2KS3B4BWcwOE2BcFlM7A/eGvPQcgWmsErymFBbC2twPPZfMH19trBbRx0QXVS3MGJ/sfBmW3PwTohR0E/gGtAUTEHQVbHWUGYDofBg4u/P2R070BKQnDBfPkUwKHq8sCfmc1AS+u/wSIGG0KXeCTBaSgTQvVsHkIVZyVChZTQQNCah8HbcZjBmipFwQHInb8OC2tAGIH7QchIAUFGjOxBPNvOQRIakcEAbfVA5PEEwq+qgEGTZIBBBee/QI7jNkF3XMRBNA8CQsNDbcHKbwlB8cN5QU9+fkCjFKNBN6KHvixpV0EkBXzBI/UjQit/0UFfrSNCbBJFwZAbrUFtRd9A6JzfwZ4IBEHAmae+6t/YQQ5qpcHT0mbANQCVwBYHB0A5deFBPJeZwXwPAkH6/+xAQmsPwj0CsEHtlDVBMxWCwWEbDUGanKbB4GbBvxCRBsE5tqTBDZPdP1Nx7sC/1h4+X+1qQY+MYcHc1DXAZ30Awgsanj8ml4LBzdn8wd8KlUEA+ANBz/e0wTrdVz/COzfBuocbQGrjs8F6YRjBTrdhQEa17EGKa1DB6EajQRtFXMES9axB1VPYQczhDsL4duNBkhCmwMgjrkE6helBSzmywfuh1cE3o8pBMH3JQTg+DsB6p6lBAu+fwb85PsEoav3BJ42MwXyMnEGv/4G/qRKDv8M23T+Oa+PBJ4YRwnHMmcHR0pLBMlKZwYxXHUDyGbxBqlYDQqJLPcGG6RXBM65WQYTnokDH24rBBucGwmeUpEEaWgXAek6/wAHPA0H9g4/B+9P6QA0YrUHk6sZA+SDiwM81qUGoAADCSTWNQGMVgcDDdqXBPHXoQRrVMUEKVFTBiL0aPxSDFUEmWhbCS2DFQZTUrEHy42M/GiGVwR34uUH0w8vBb5EiQYL4D8F6VNLBjsXMwL/JHEFGLh5B8xJ9Py6c3UDtdmW/+X21QFjPt8C1ynvBeP2bQRzY7EEs5KJBvhScwQ0fqUASCBtBmxWswI54ZMAOoLK+aUIDQQPbYMHuscZBTC7KQOz4nEAhmfFAu+XdQCbv90CduIvBop/2QWTBr8HEMrRBfjy5wMn6GsEGYJnBw0sWQDJBy8CjY5HBjSX4QVCs0sDX5z/AnugDQXrb20HbNFq+64HBwNPaPcGBohHCf9fPwWF4y0FwQ3vAkr6cwTYJOsE4CqjAYGPbQTmRA0FGm+XB9Jy6QFLna8G7RtpBBq2IQav5DMCSd4bBqVvYQQyAMsAiqjzAR0QbP6hagT+mXvHA1NmYQDYtu78ck4fBSlX9QQRnO8FQy8nAxKkRQrvDpEF6WHfBtbOzQQnVAkEvINTAZbckwRC2MMFgYkLBQD5TQaofU8ETSqjBT7kqQZIpqkAlKkPBPG0UwspObMD4lUZAjytzQUF4YsGBN/BAvJtvwetQq8Gi7K1Bfu70QSCaCUGBfsTANQJAQQbD00GRRYTA58aJQS7/BMLjU93BcpMgwXuGoEHrafDAWOVwQX3WFcEipJXAdi/rv3VQxMHWscjBtMcMQbj9ND/OYAjCKFwfwV75C0HKNZ1Buxy2wQUqdsHZDDNBO4tXwYofJUE/RpXBonD5Pwgxa8G/BBjBknj+v0IRCsFoZrbBgm3ewJJ4XcGX5V7BGOpUv/Vl9D/fhQnBnerPwU01x0Eb5l7Bh3zZwZCMukEfmgPB3jz2QYNGasGlgna/YrEDQQJOFMF/FPHA8qUFwt+2xkHgrRtAoOL4wSGgFMJH3WrATMV+wVdAk8FHOA3BSPjxQWjfg8HI441Bc9DKwZBjxcDgd55B2FgCwqZeQUCqbLdBWjAJwkH7zUDQOmLByxXIQWDtr8EQlrU/jV/HQWMsksHcU/TBNSjHQNwFY8B7T2LB+NOuwNMGkMEwGexAENSkQQTwUcFIrcHBrfryPwPyTcB6Mcg+pBXYQSaVh8HxGnBBLKTFwfFyqEHJJtw/XLypQTVh48G8Z15BzzGmQCyQq8GejvG9w0c1QWnPlsHmp5LB/DEpwew6TkHbHRTCSGWGwen44sGXhj5B8F27P0dkJb9oSTxB93y3QaAPjkB6YpLBtTOkQBJ9/EE7ww7C9CDhwdbkOcB9mpfBtYeXPwD7ScHjnGnB9CDdwQnNAUJ7mnDACxfqQVRUgcF+ILnBwNyjQWiTnz+kIK1BrhphQGgbHMGvpg1BlqRbwOGMc0D9P3tBruYXwaBU1UGJVPY/nYKmQSbKNcE1+xNB63q5wboosUEnXB1CValswA1rIMDr49zBqqqgwbW2FL8zBYFAkorUwGrve0DeyYtBmGWaQRZBt0AOgQ5Agtg9webvusBJQZRBLiHQwOAjvT+WlIa/KMmPwDRfw78zexBAtmSdQRO8qEDlkfJAvfzzwVHd1cH2KRbAxXEEwrRlYEDVa1RBlsLZwIKLqEEbh+G+nrYKwrjhlcHCdAlCx1NxwZ6LgUDZwK7Btrb8QEGki8FQDPY/bbuQv3hqhcDuZTu+Ua2TwbNkA0FhlMfAX0gTQX3940FZEZ7BL3zjQFHcEsGBLVHBKyE4wb8Uv0GeTfbAg/DfQS+NPcAq0uRABqjJQXfZacFVA4O/vR0UQNxUhsExxcFB4/2WwQcbkEGJb2g/Ss1GwMqdm8E+Ru9As5XpwPVJJMAA4ljBPubOwGUkM0FAwQVCpizGQaErfsBRPf9AqJkvviMCyUD5gQFAtZnXQQXFNMF+baPB++qywUuLYcHRdeBBVN3EwVvKRkEC611B/NgOQJ+XMcGN4YbBDirFv6lu3cCJdr7BQBQFwYc+GcEFo6NBKiyjQKDsnr9sCpBAE9LvQQ7iJsHT1YXB52P2wFi280ArXofB9h40QdQds8EpTZ5BHKywwTfICELYrqTB4LOnwXA0nMEVQgXCdOAQwf4wTcEPrqZBKjMbQKOe/sBpLEw/7kRgwbQu7kEMI47Ao+nVwc5zOsE04jHBpIkcQIoTIEFa/eFB652HwWptTMAiYvFAeXvlQelX7UDTcxnBOrhiP63UB8J5v2tBjxPaQQlrr8Cf5wNAVF8RwqZ9NsHtheFBrWiFwHRUx8DmwRI/454yv9eMLMHSKgJB8i2pQfC/C0IWtvRBHjtWQGHooj+SRwVCXqobwZ0US8H+E0tAMZ1IwUIhjUFlVsrBh8OVwbcsJEEJC20/2S7DwCKb2MEWGo9Btw/SQF7CUECAlgRAZDqoQYId0sClAmhBXBfPwSAh+j7VqLJBnOvLwdE9c8EiKAbB9ziOQdEW5cH/JojBL5WdQYQ7v0Bz9aPBuD4VwTxX8kFH7e5B0105QNjlqkGsW2LBHT+vwebY80CBQc2+3iO9QRFKo8H3mXPBTdIdQIIIL8HbqwFC/0/SQSxu8sDrpAPCGu8gwVbeGb7dEwJCY+GgQEmJRcD6tuFBSsSqwIlM/cCMrbBBbxoVwDsHFEBPR+g/wa1tQSWnY0DsJb1BrbhjQLnqk0FDof7Bz7MQQh5ErsBxefBB8Xh/P9qXlT9B7kfBKDYgQYFOgsA+GQNBnGOjQTdEBsADl43BMNYQQRZPoEAnpvJBE/yfwMw/WEE6t4/BlcUxwaTO1EBstqPAqXRwwVihr8DChWnAmEBXwWa7qkFiAaTB347zwH9Ly8Gj5F9AXOR3wb0mj8Ao2XPAcrvvQA6+uUAwQc5ATNBXwUhCnkDKCQDCmn2hwGCVlD+BaTfBFYIXwfZTwkECJWTAmfTbQCR7G0C2kpZBVnEov4QpP8GQtnXByWCTv0LQmcCCg6RAdkOWQBGApUB7CdTB+zuhwbbqpcEnCBnBf+QWwU+fk0H6znLAULxRwIefhEFB9H/Bh3abwIIlPkHD7KZATZH8QE4uCEIbJCrBGGqBwFoTEcCd523BTpMLwmsyJ0FhPbNBBb2SQTmz48DoVepBHWARQtzK8sHG+7pAQyPnweP26sAlC6FAEroVwbh7gMGqv7jAaFOEQXwOZsFaGmXB8SXmQX2UK8HBvP3B6q4IwNLn/cCFoKBBvsO8QU+3lEGqP1VA6rJXQQ98DL9TKNDAgVHMQVye8cC8YO7A+qqVQd3J4kGcEMzBmVawwNrGIcGZP+PBLZCVQQiJ0MDggrpBOEKCQMgSusGAw9xADesjwEnt2cFbDghAvjILwtD/NL6EioHAoIwOQqKgHUAMmmjBxXemQVm5rEHzWe9ABp2sPxupOcGVcAjCu06GwbS5Y8EasOnBo5O0wYEP8EEQc1rBFTvhQT1XWEEX80lBCMJZQV+3eME6fNHAE3LiwWJajMAxwtzBEaSRwf6Q3MGZ2zXAgp3PwJSBnsGOkc5BULx9wXMd/cFq9TjBsAgDwfSDUj/wHthBBCllQXkQKMCZoPFAskuLwKJEA0AorCTBeM+eQVp/1sGgyjFBd6+NQNNrzkC4lBbB752uwcwKDcJlbrvBr6niwQ==\",\"dtype\":\"float32\",\"shape\":[1000]},\"x2\":{\"__ndarray__\":\"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\",\"dtype\":\"float32\",\"shape\":[1000]}}},\"id\":\"6e59b382-2245-4f6e-a3ee-390bed0047b9\",\"type\":\"ColumnDataSource\"},{\"attributes\":{\"source\":{\"id\":\"6e59b382-2245-4f6e-a3ee-390bed0047b9\",\"type\":\"ColumnDataSource\"}},\"id\":\"cd566935-dc34-4140-afac-030088a2fb48\",\"type\":\"CDSView\"},{\"attributes\":{\"formatter\":{\"id\":\"89d65975-13bb-4ec3-9332-e8abade991c8\",\"type\":\"BasicTickFormatter\"},\"plot\":{\"id\":\"d5a68c9e-b26e-4b00-be9b-9da706743c93\",\"subtype\":\"Figure\",\"type\":\"Plot\"},\"ticker\":{\"id\":\"32ffe509-f242-434f-a239-4730473438fe\",\"type\":\"BasicTicker\"}},\"id\":\"807081ae-8797-442b-81c4-7112fb60243a\",\"type\":\"LinearAxis\"},{\"attributes\":{\"below\":[{\"id\":\"807081ae-8797-442b-81c4-7112fb60243a\",\"type\":\"LinearAxis\"}],\"left\":[{\"id\":\"eab64888-e4d6-442d-bd5b-e93a66601796\",\"type\":\"LinearAxis\"}],\"renderers\":[{\"id\":\"807081ae-8797-442b-81c4-7112fb60243a\",\"type\":\"LinearAxis\"},{\"id\":\"c6f796a3-ecb9-45f5-bb76-3bc2ef324dc7\",\"type\":\"Grid\"},{\"id\":\"eab64888-e4d6-442d-bd5b-e93a66601796\",\"type\":\"LinearAxis\"},{\"id\":\"69229cf5-36b4-4812-b504-79d3b5ac247d\",\"type\":\"Grid\"},{\"id\":\"e8587004-3c8c-4cc9-9170-0ff4bcc68d94\",\"type\":\"GlyphRenderer\"},{\"id\":\"3cad6780-3541-44a9-a7f5-e8b21fefee18\",\"type\":\"LabelSet\"}],\"title\":{\"id\":\"957c8116-b271-46fe-ac05-d7012e50eca9\",\"type\":\"Title\"},\"toolbar\":{\"id\":\"14bba1a4-1884-4e77-8759-c184f6a20b48\",\"type\":\"Toolbar\"},\"toolbar_location\":\"above\",\"x_range\":{\"id\":\"8cf6ed9e-85f6-4aad-9db3-8812df4aafde\",\"type\":\"DataRange1d\"},\"x_scale\":{\"id\":\"78e6fdc6-9114-4dad-bcf0-435200e9e9f3\",\"type\":\"LinearScale\"},\"y_range\":{\"id\":\"0d80b9f6-f6a8-4fe0-9d98-e86b396aa360\",\"type\":\"DataRange1d\"},\"y_scale\":{\"id\":\"e07c1c3b-23f4-4bd3-8daf-238700334b98\",\"type\":\"LinearScale\"}},\"id\":\"d5a68c9e-b26e-4b00-be9b-9da706743c93\",\"subtype\":\"Figure\",\"type\":\"Plot\"},{\"attributes\":{\"plot\":{\"id\":\"d5a68c9e-b26e-4b00-be9b-9da706743c93\",\"subtype\":\"Figure\",\"type\":\"Plot\"},\"source\":{\"id\":\"6e59b382-2245-4f6e-a3ee-390bed0047b9\",\"type\":\"ColumnDataSource\"},\"text\":{\"field\":\"names\"},\"text_align\":\"center\",\"text_color\":{\"value\":\"#555555\"},\"text_font_size\":{\"value\":\"8pt\"},\"x\":{\"field\":\"x1\"},\"y\":{\"field\":\"x2\"},\"y_offset\":{\"value\":6}},\"id\":\"3cad6780-3541-44a9-a7f5-e8b21fefee18\",\"type\":\"LabelSet\"},{\"attributes\":{},\"id\":\"32ffe509-f242-434f-a239-4730473438fe\",\"type\":\"BasicTicker\"},{\"attributes\":{},\"id\":\"eb050475-6cbc-4623-aa36-b39d50c10ccd\",\"type\":\"BasicTickFormatter\"},{\"attributes\":{\"active_drag\":\"auto\",\"active_inspect\":\"auto\",\"active_scroll\":\"auto\",\"active_tap\":\"auto\",\"tools\":[{\"id\":\"f0659263-85db-48ad-8cd4-a5526a9b748b\",\"type\":\"PanTool\"},{\"id\":\"3b94acef-2d58-4bc3-ae66-609a1046f20e\",\"type\":\"WheelZoomTool\"},{\"id\":\"15d0c94f-52e9-4f92-92b0-5d6c8fca7f8c\",\"type\":\"ResetTool\"},{\"id\":\"928df5c5-2ced-4f55-99bb-d6208957bc77\",\"type\":\"SaveTool\"}]},\"id\":\"14bba1a4-1884-4e77-8759-c184f6a20b48\",\"type\":\"Toolbar\"},{\"attributes\":{},\"id\":\"89d65975-13bb-4ec3-9332-e8abade991c8\",\"type\":\"BasicTickFormatter\"},{\"attributes\":{\"plot\":null,\"text\":\"word2vec T-SNE (eng model, top1000 words, +SVD)\"},\"id\":\"957c8116-b271-46fe-ac05-d7012e50eca9\",\"type\":\"Title\"},{\"attributes\":{\"fill_alpha\":{\"value\":0.1},\"fill_color\":{\"value\":\"#1f77b4\"},\"line_alpha\":{\"value\":0.1},\"line_color\":{\"value\":\"#1f77b4\"},\"size\":{\"units\":\"screen\",\"value\":8},\"x\":{\"field\":\"x1\"},\"y\":{\"field\":\"x2\"}},\"id\":\"a1a0104d-9299-46b0-8d94-cc9cf84e4c5d\",\"type\":\"Circle\"},{\"attributes\":{\"plot\":{\"id\":\"d5a68c9e-b26e-4b00-be9b-9da706743c93\",\"subtype\":\"Figure\",\"type\":\"Plot\"},\"ticker\":{\"id\":\"32ffe509-f242-434f-a239-4730473438fe\",\"type\":\"BasicTicker\"}},\"id\":\"c6f796a3-ecb9-45f5-bb76-3bc2ef324dc7\",\"type\":\"Grid\"}],\"root_ids\":[\"d5a68c9e-b26e-4b00-be9b-9da706743c93\"]},\"title\":\"Bokeh Application\",\"version\":\"0.12.10\"}};\n",
       "    var render_items = [{\"docid\":\"8d63f088-5422-40e3-bae0-098928870cb8\",\"elementid\":\"6fd5705d-e7c2-41c4-8ad1-fbdaeb303fb8\",\"modelid\":\"d5a68c9e-b26e-4b00-be9b-9da706743c93\"}];\n",
       "\n",
       "    root.Bokeh.embed.embed_items(docs_json, render_items);\n",
       "  }\n",
       "\n",
       "  if (root.Bokeh !== undefined) {\n",
       "    embed_document(root);\n",
       "  } else {\n",
       "    var attempts = 0;\n",
       "    var timer = setInterval(function(root) {\n",
       "      if (root.Bokeh !== undefined) {\n",
       "        embed_document(root);\n",
       "        clearInterval(timer);\n",
       "      }\n",
       "      attempts++;\n",
       "      if (attempts > 100) {\n",
       "        console.log(\"Bokeh: ERROR: Unable to embed document because BokehJS library is missing\")\n",
       "        clearInterval(timer);\n",
       "      }\n",
       "    }, 10, root)\n",
       "  }\n",
       "})(window);"
      ],
      "application/vnd.bokehjs_exec.v0+json": ""
     },
     "metadata": {
      "application/vnd.bokehjs_exec.v0+json": {
       "id": "d5a68c9e-b26e-4b00-be9b-9da706743c93"
      }
     },
     "output_type": "display_data"
    }
   ],
   "source": [
    "output_notebook()\n",
    "\n",
    "p = figure(tools=\"pan,wheel_zoom,reset,save\",\n",
    "           toolbar_location=\"above\",\n",
    "           title=\"word2vec T-SNE (eng model, top1000 words, +SVD)\")\n",
    "\n",
    "source = ColumnDataSource(data=dict(x1=top_words_tsne2[:,0],\n",
    "                                    x2=top_words_tsne2[:,1],\n",
    "                                    names=top_words))\n",
    "\n",
    "p.scatter(x=\"x1\", y=\"x2\", size=8, source=source)\n",
    "\n",
    "labels = LabelSet(x=\"x1\", y=\"x2\", text=\"names\", y_offset=6,\n",
    "                  text_font_size=\"8pt\", text_color=\"#555555\",\n",
    "                  source=source, text_align='center')\n",
    "p.add_layout(labels)\n",
    "\n",
    "show(p)"
   ]
  },
  {
   "cell_type": "markdown",
   "metadata": {},
   "source": [
    "## FastText\n",
    "\n",
    "FastText использует не только эмбеддинги слов, но и эмбеддинги n-грам. В корпусе каждое слово автоматически представляется в виде набора символьных n-грамм. Скажем, если мы установим n=3, то вектор для слова \"where\" будет представлен суммой векторов следующих триграм: \"<wh\", \"whe\", \"her\", \"ere\", \"re>\" (где \"<\" и \">\" символы, обозначающие начало и конец слова). Благодаря этому мы можем также получать вектора для слов, отсутствуюших в словаре, а также эффективно работать с текстами, содержащими ошибки и опечатки.\n",
    "\n",
    "* [Статья](https://aclweb.org/anthology/Q17-1010)\n",
    "* [Сайт](https://fasttext.cc/)\n",
    "* [Тьюториал](https://fasttext.cc/docs/en/support.html)\n",
    "* [Вектора для 157 языков](https://fasttext.cc/docs/en/crawl-vectors.html)\n",
    "* [Вектора, обученные на википедии](https://fasttext.cc/docs/en/pretrained-vectors.html) (отдельно для 294 разных языков)\n",
    "* [Репозиторий](https://github.com/facebookresearch/fasttext)\n",
    "\n",
    "Есть библиотека `fasttext` для питона (с готовыми моделями можно работать и через `gensim`)."
   ]
  },
  {
   "cell_type": "code",
   "execution_count": 59,
   "metadata": {},
   "outputs": [],
   "source": [
    "import fasttext\n",
    "\n",
    "# так можно обучить свою модель \n",
    "ft_model = fasttext.train_unsupervised('clean_text.txt', minn=3, maxn=4, dim=300)"
   ]
  },
  {
   "cell_type": "code",
   "execution_count": 60,
   "metadata": {},
   "outputs": [
    {
     "data": {
      "text/plain": [
       "array([-9.26938560e-03,  1.49881303e-01, -1.68044731e-01, -3.42621356e-02,\n",
       "        3.12056728e-02, -2.70286333e-02, -2.25703284e-01, -4.61917184e-02,\n",
       "       -4.98749875e-02,  9.88036618e-02,  9.06925574e-02,  8.58290568e-02,\n",
       "        2.65159886e-02,  5.39430939e-02,  1.10680394e-01, -8.62991624e-03,\n",
       "        8.84623155e-02, -5.26909232e-02,  1.35063052e-01,  9.35826823e-02,\n",
       "        8.97094384e-02, -3.88720594e-02,  1.27567768e-01, -8.02966207e-03,\n",
       "        1.01278596e-01,  5.19590750e-02,  1.49484232e-01,  6.19858364e-03,\n",
       "       -1.42766461e-01,  7.11348653e-03,  8.17533061e-02, -1.15331080e-04,\n",
       "        5.02409115e-02, -2.74927262e-02, -1.13569256e-02, -7.69021511e-02,\n",
       "        1.05734564e-01, -5.88382855e-02, -9.06331465e-02, -1.64451167e-01,\n",
       "        1.75815925e-01,  8.27199519e-02, -2.97587663e-02,  1.57219544e-02,\n",
       "        5.97899556e-02, -3.27031128e-02, -2.07461156e-02,  5.91145344e-02,\n",
       "       -6.80698380e-02, -9.68456417e-02,  1.12470143e-01, -1.10266678e-01,\n",
       "        1.70350075e-02,  1.60394888e-02,  3.14912871e-02, -4.97673340e-02,\n",
       "        6.97440431e-02, -1.28387019e-01, -2.80053001e-02, -1.77055094e-02,\n",
       "        1.23659849e-01, -1.09755911e-01, -2.76728552e-02, -4.41779569e-02,\n",
       "        1.01704411e-01, -9.55856517e-02,  3.60862724e-02, -8.16437155e-02,\n",
       "        4.23402861e-02,  4.62633148e-02,  1.11022823e-01,  1.06531180e-01,\n",
       "       -5.94008341e-02, -5.72724780e-03,  3.59050892e-02,  1.88173708e-02,\n",
       "        5.66453151e-02,  5.76582141e-02,  5.26857786e-02,  1.20225430e-01,\n",
       "        6.77487776e-02,  6.20392822e-02,  8.85472223e-02,  8.82318541e-02,\n",
       "        5.23381941e-02,  3.05046272e-02,  1.01645246e-01,  4.36746096e-03,\n",
       "       -5.38083613e-02, -1.45291269e-01,  4.10800651e-02, -8.30151420e-03,\n",
       "        9.71259698e-02, -3.14780436e-02,  1.20927230e-01, -1.58890978e-01,\n",
       "       -6.40562996e-02, -1.26748666e-01,  1.29160807e-01,  4.04787101e-02,\n",
       "       -7.61456490e-02, -3.32833081e-02,  1.59364585e-02, -6.19296432e-02,\n",
       "       -1.72780976e-01,  4.34927903e-02, -7.37027898e-02, -1.85409054e-01,\n",
       "        1.50040522e-01,  7.67011046e-02,  2.75283214e-02, -1.50071550e-02,\n",
       "       -7.34788105e-02,  4.07117419e-02,  4.51735854e-02,  5.74293919e-03,\n",
       "        1.35062382e-01,  1.88146252e-03, -2.69603848e-01,  7.18263313e-02,\n",
       "        3.33507033e-03, -8.25377740e-03,  1.25644179e-02, -2.95182802e-02,\n",
       "       -7.94316977e-02,  6.41895160e-02,  3.50774601e-02, -4.11240719e-02,\n",
       "       -2.05598287e-02,  6.24527410e-02,  3.75818997e-03, -1.21344186e-01,\n",
       "       -5.60456403e-02, -4.05830033e-02, -6.27610162e-02,  3.02523281e-02,\n",
       "       -2.99329795e-02,  8.08119103e-02,  1.44235447e-01,  1.24309301e-01,\n",
       "       -6.02601841e-02, -1.59555823e-02, -3.89342173e-03,  1.23112418e-01,\n",
       "       -9.09063593e-02,  1.15523925e-02,  1.02905683e-01,  6.59515858e-02,\n",
       "        5.74195050e-02, -1.24791615e-01, -2.06012111e-02, -3.05597689e-02,\n",
       "        2.96410806e-02, -6.06794953e-02,  8.05220380e-02, -2.51975073e-03,\n",
       "       -6.76565096e-02,  1.21204056e-01, -7.36171901e-02,  5.44976890e-02,\n",
       "       -1.06080482e-03,  9.89316329e-02, -1.20930038e-01, -4.90093492e-02,\n",
       "       -3.95613201e-02, -7.69499317e-02,  3.38723511e-03, -4.95095141e-02,\n",
       "       -1.05471373e-01,  5.02508879e-02,  1.15484605e-02, -1.22607788e-02,\n",
       "       -6.21664412e-02,  7.44536743e-02, -5.95072396e-02, -1.49293438e-01,\n",
       "       -6.69538006e-02, -2.28651650e-02,  6.18807562e-02, -1.05186000e-01,\n",
       "       -9.32953209e-02, -6.74612895e-02, -6.57628328e-02,  4.41017114e-02,\n",
       "       -6.51559383e-02,  9.45863277e-02,  5.88748269e-02,  1.92443892e-01,\n",
       "       -2.05170497e-01,  6.34489655e-02, -7.38922283e-02,  2.93818954e-02,\n",
       "       -5.95466457e-02, -4.94603626e-02,  1.37591645e-01, -1.38464749e-01,\n",
       "       -1.08770743e-01,  3.13141383e-02,  3.94027047e-02, -1.18340962e-01,\n",
       "        5.82195213e-03,  4.93966118e-02,  1.26421541e-01, -1.22904370e-03,\n",
       "        1.72006097e-02,  8.97186100e-02,  1.09020986e-01,  1.40997201e-01,\n",
       "       -1.41617045e-01, -9.42505002e-02, -1.39218375e-01,  1.41196460e-01,\n",
       "       -1.71954602e-01, -2.08132248e-02, -1.46388754e-01, -1.29188642e-01,\n",
       "       -3.67322490e-02, -1.40678003e-01,  2.35001966e-01, -1.96895167e-01,\n",
       "        4.94135879e-02,  2.88016826e-01,  4.13408987e-02, -1.01405703e-01,\n",
       "        1.05425073e-02,  3.58326151e-03, -2.78068874e-02, -1.40781432e-01,\n",
       "        3.63993570e-02,  3.31730559e-03, -9.74632278e-02,  1.24809444e-01,\n",
       "        1.30141243e-01, -1.51453838e-01, -2.66874861e-03,  1.54244244e-01,\n",
       "        9.63189453e-02, -2.01342106e-01,  4.35058586e-02, -3.29688899e-02,\n",
       "       -5.99898398e-02,  8.23877007e-02, -5.04234917e-02,  5.13759218e-02,\n",
       "        1.25941023e-01, -1.30441412e-01,  1.05727576e-01, -1.42006921e-02,\n",
       "       -3.40314656e-02,  5.27774803e-02, -3.37157561e-03, -4.27831821e-02,\n",
       "       -1.40677614e-03,  1.59671046e-02,  4.90238443e-02, -8.14069286e-02,\n",
       "        2.67714053e-01,  1.71568528e-01,  5.25445230e-02, -8.77500027e-02,\n",
       "        8.75908956e-02, -1.07633352e-01,  8.26978981e-02,  2.04500347e-01,\n",
       "       -1.78865138e-02,  1.30436763e-01, -1.55783119e-02, -4.99894656e-02,\n",
       "        8.06537271e-03, -5.10681756e-02, -1.11930788e-01,  2.42768805e-02,\n",
       "        1.31819963e-01, -7.06392080e-02,  7.67357126e-02, -9.76381823e-02,\n",
       "        1.76156923e-01, -6.94204196e-02,  3.18392850e-02,  1.46567404e-01,\n",
       "        2.23234728e-01,  1.28373429e-01, -5.55254333e-02,  1.31977275e-02,\n",
       "        2.23302439e-01, -6.10506646e-02,  5.16116619e-02,  1.22717299e-01,\n",
       "        4.03204896e-02, -5.53186191e-03,  1.94743983e-02,  1.49279302e-02,\n",
       "       -1.19490400e-02,  5.59761710e-02, -4.43784148e-02,  1.13141716e-01,\n",
       "        7.95880556e-02,  2.72698198e-02,  7.58432224e-02, -9.49119255e-02],\n",
       "      dtype=float32)"
      ]
     },
     "execution_count": 60,
     "metadata": {},
     "output_type": "execute_result"
    }
   ],
   "source": [
    "ft_model.get_word_vector(\"movie\")"
   ]
  },
  {
   "cell_type": "code",
   "execution_count": 61,
   "metadata": {},
   "outputs": [
    {
     "data": {
      "text/plain": [
       "[(0.999930202960968, 'director'),\n",
       " (0.9998905658721924, 'actresses'),\n",
       " (0.9998632669448853, 'perfectly'),\n",
       " (0.9998623728752136, 'perfect'),\n",
       " (0.9998612999916077, 'predator'),\n",
       " (0.99985271692276, 'actual'),\n",
       " (0.9998513460159302, 'directors'),\n",
       " (0.9998440742492676, 'superior'),\n",
       " (0.9998432397842407, 'dimensional'),\n",
       " (0.9998407959938049, 'doctor')]"
      ]
     },
     "execution_count": 61,
     "metadata": {},
     "output_type": "execute_result"
    }
   ],
   "source": [
    "ft_model.get_nearest_neighbors('actor')"
   ]
  },
  {
   "cell_type": "code",
   "execution_count": 62,
   "metadata": {},
   "outputs": [
    {
     "data": {
      "text/plain": [
       "[(0.9997962713241577, 'act'),\n",
       " (0.9997937679290771, 'written'),\n",
       " (0.9997843503952026, 'write'),\n",
       " (0.9997797012329102, 'merely'),\n",
       " (0.9997739791870117, 'barely'),\n",
       " (0.9997737407684326, 'actors'),\n",
       " (0.9997718334197998, 'utterly'),\n",
       " (0.9997681379318237, 'admittedly'),\n",
       " (0.999761700630188, 'deliberately'),\n",
       " (0.9997599720954895, 'ugly')]"
      ]
     },
     "execution_count": 62,
     "metadata": {},
     "output_type": "execute_result"
    }
   ],
   "source": [
    "ft_model.get_analogies(\"woman\", \"man\", \"actor\")"
   ]
  },
  {
   "cell_type": "code",
   "execution_count": 63,
   "metadata": {},
   "outputs": [
    {
     "data": {
      "text/plain": [
       "[(0.999885082244873, 'act'),\n",
       " (0.999877393245697, 'actors'),\n",
       " (0.9998356103897095, 'actual'),\n",
       " (0.9998084306716919, 'actress'),\n",
       " (0.9998043179512024, 'directors'),\n",
       " (0.9997732639312744, 'perspective'),\n",
       " (0.9997712969779968, 'direct'),\n",
       " (0.9997701048851013, 'incredibly'),\n",
       " (0.9997696876525879, 'inevitable'),\n",
       " (0.9997684359550476, 'attractive')]"
      ]
     },
     "execution_count": 63,
     "metadata": {},
     "output_type": "execute_result"
    }
   ],
   "source": [
    "# проблема с опечатками решена\n",
    "\n",
    "ft_model.get_nearest_neighbors('actr')"
   ]
  },
  {
   "cell_type": "code",
   "execution_count": 64,
   "metadata": {},
   "outputs": [
    {
     "data": {
      "text/plain": [
       "[(0.9999075531959534, 'reviews'),\n",
       " (0.9998737573623657, 'review'),\n",
       " (0.9998543858528137, 'remake'),\n",
       " (0.9998310804367065, 'watchable'),\n",
       " (0.9998247623443604, 'how'),\n",
       " (0.9998225569725037, 'now'),\n",
       " (0.999821126461029, 'like'),\n",
       " (0.9998193383216858, 'movie'),\n",
       " (0.9998154044151306, 'waste'),\n",
       " (0.9998078942298889, 'said')]"
      ]
     },
     "execution_count": 64,
     "metadata": {},
     "output_type": "execute_result"
    }
   ],
   "source": [
    "# проблема с out of vocabulary словами - тоже\n",
    "\n",
    "ft_model.get_nearest_neighbors('moviegeek')"
   ]
  },
  {
   "cell_type": "raw",
   "metadata": {},
   "source": [
    "Кроме этого, fastText можно использовать для классификации, для этого нужен следующий формат размеченных данных:\n",
    "\n",
    "__label_1__  text_1\n",
    "\n",
    "__label_2__  text_2\n",
    "\n",
    "..."
   ]
  },
  {
   "cell_type": "code",
   "execution_count": 3,
   "metadata": {},
   "outputs": [
    {
     "name": "stdout",
     "output_type": "stream",
     "text": [
      "--2019-09-07 17:04:20--  https://www.dropbox.com/s/fnpq3z4bcnoktiv/positive.csv?dl=0\n",
      "Распознаётся www.dropbox.com (www.dropbox.com)… 162.125.70.1\n",
      "Подключение к www.dropbox.com (www.dropbox.com)|162.125.70.1|:443... соединение установлено.\n",
      "HTTP-запрос отправлен. Ожидание ответа… 301 Moved Permanently\n",
      "Адрес: /s/raw/fnpq3z4bcnoktiv/positive.csv [переход]\n",
      "--2019-09-07 17:04:21--  https://www.dropbox.com/s/raw/fnpq3z4bcnoktiv/positive.csv\n",
      "Повторное использование соединения с www.dropbox.com:443.\n",
      "HTTP-запрос отправлен. Ожидание ответа… 302 Found\n",
      "Адрес: https://uc6e0483c7461e65c1c3d732aa19.dl.dropboxusercontent.com/cd/0/inline/AoF8AacHXiZa2jyu4tqZjqBWClQ9i0qCeIW0VkLfMSuZLPrZT5HAR2D1aoILOlkKM9FIBlfePxThsc5y9hrkngjbm5TKqK4vvVPVX7fsQ-bEAA/file# [переход]\n",
      "--2019-09-07 17:04:21--  https://uc6e0483c7461e65c1c3d732aa19.dl.dropboxusercontent.com/cd/0/inline/AoF8AacHXiZa2jyu4tqZjqBWClQ9i0qCeIW0VkLfMSuZLPrZT5HAR2D1aoILOlkKM9FIBlfePxThsc5y9hrkngjbm5TKqK4vvVPVX7fsQ-bEAA/file\n",
      "Распознаётся uc6e0483c7461e65c1c3d732aa19.dl.dropboxusercontent.com (uc6e0483c7461e65c1c3d732aa19.dl.dropboxusercontent.com)… 162.125.70.6\n",
      "Подключение к uc6e0483c7461e65c1c3d732aa19.dl.dropboxusercontent.com (uc6e0483c7461e65c1c3d732aa19.dl.dropboxusercontent.com)|162.125.70.6|:443... соединение установлено.\n",
      "HTTP-запрос отправлен. Ожидание ответа… 200 OK\n",
      "Длина: 26233379 (25M) [text/plain]\n",
      "Сохранение в: «positive.csv»\n",
      "\n",
      "positive.csv        100%[===================>]  25,02M  4,02MB/s    за 11s     \n",
      "\n",
      "2019-09-07 17:04:33 (2,37 MB/s) - «positive.csv» сохранён [26233379/26233379]\n",
      "\n"
     ]
    }
   ],
   "source": [
    "!wget -O positive.csv https://www.dropbox.com/s/fnpq3z4bcnoktiv/positive.csv?dl=0"
   ]
  },
  {
   "cell_type": "code",
   "execution_count": 5,
   "metadata": {},
   "outputs": [
    {
     "name": "stdout",
     "output_type": "stream",
     "text": [
      "--2019-09-07 17:04:48--  https://www.dropbox.com/s/r6u59ljhhjdg6j0/negative.csv?dl=0\n",
      "Распознаётся www.dropbox.com (www.dropbox.com)… 162.125.70.1\n",
      "Подключение к www.dropbox.com (www.dropbox.com)|162.125.70.1|:443... соединение установлено.\n",
      "HTTP-запрос отправлен. Ожидание ответа… 301 Moved Permanently\n",
      "Адрес: /s/raw/r6u59ljhhjdg6j0/negative.csv [переход]\n",
      "--2019-09-07 17:04:49--  https://www.dropbox.com/s/raw/r6u59ljhhjdg6j0/negative.csv\n",
      "Повторное использование соединения с www.dropbox.com:443.\n",
      "HTTP-запрос отправлен. Ожидание ответа… 302 Found\n",
      "Адрес: https://ucac5144b5879d47d6296c4bef32.dl.dropboxusercontent.com/cd/0/inline/AoGBe7-mm6lRHQ8AnaSbbNYilOBaAo0Yk3JBIv2SuJEfWAEy1NPN2lkGbwyX-a87SD06TXeFVbqDfN7grHh9kB5ObxNxHPWJxm3W37uatPatGA/file# [переход]\n",
      "--2019-09-07 17:04:50--  https://ucac5144b5879d47d6296c4bef32.dl.dropboxusercontent.com/cd/0/inline/AoGBe7-mm6lRHQ8AnaSbbNYilOBaAo0Yk3JBIv2SuJEfWAEy1NPN2lkGbwyX-a87SD06TXeFVbqDfN7grHh9kB5ObxNxHPWJxm3W37uatPatGA/file\n",
      "Распознаётся ucac5144b5879d47d6296c4bef32.dl.dropboxusercontent.com (ucac5144b5879d47d6296c4bef32.dl.dropboxusercontent.com)… 162.125.70.6\n",
      "Подключение к ucac5144b5879d47d6296c4bef32.dl.dropboxusercontent.com (ucac5144b5879d47d6296c4bef32.dl.dropboxusercontent.com)|162.125.70.6|:443... соединение установлено.\n",
      "HTTP-запрос отправлен. Ожидание ответа… 200 OK\n",
      "Длина: 24450101 (23M) [text/plain]\n",
      "Сохранение в: «negative.csv»\n",
      "\n",
      "negative.csv        100%[===================>]  23,32M  3,55MB/s    за 6,8s    \n",
      "\n",
      "2019-09-07 17:04:58 (3,45 MB/s) - «negative.csv» сохранён [24450101/24450101]\n",
      "\n"
     ]
    }
   ],
   "source": [
    "!wget -O negative.csv https://www.dropbox.com/s/r6u59ljhhjdg6j0/negative.csv?dl=0"
   ]
  },
  {
   "cell_type": "code",
   "execution_count": 4,
   "metadata": {},
   "outputs": [
    {
     "data": {
      "text/html": [
       "<div>\n",
       "<style scoped>\n",
       "    .dataframe tbody tr th:only-of-type {\n",
       "        vertical-align: middle;\n",
       "    }\n",
       "\n",
       "    .dataframe tbody tr th {\n",
       "        vertical-align: top;\n",
       "    }\n",
       "\n",
       "    .dataframe thead th {\n",
       "        text-align: right;\n",
       "    }\n",
       "</style>\n",
       "<table border=\"1\" class=\"dataframe\">\n",
       "  <thead>\n",
       "    <tr style=\"text-align: right;\">\n",
       "      <th></th>\n",
       "      <th>text</th>\n",
       "      <th>label</th>\n",
       "    </tr>\n",
       "  </thead>\n",
       "  <tbody>\n",
       "    <tr>\n",
       "      <th>0</th>\n",
       "      <td>@first_timee хоть я и школота, но поверь, у на...</td>\n",
       "      <td>positive</td>\n",
       "    </tr>\n",
       "    <tr>\n",
       "      <th>1</th>\n",
       "      <td>Да, все-таки он немного похож на него. Но мой ...</td>\n",
       "      <td>positive</td>\n",
       "    </tr>\n",
       "    <tr>\n",
       "      <th>2</th>\n",
       "      <td>RT @KatiaCheh: Ну ты идиотка) я испугалась за ...</td>\n",
       "      <td>positive</td>\n",
       "    </tr>\n",
       "    <tr>\n",
       "      <th>3</th>\n",
       "      <td>RT @digger2912: \"Кто то в углу сидит и погибае...</td>\n",
       "      <td>positive</td>\n",
       "    </tr>\n",
       "    <tr>\n",
       "      <th>4</th>\n",
       "      <td>@irina_dyshkant Вот что значит страшилка :D\\nН...</td>\n",
       "      <td>positive</td>\n",
       "    </tr>\n",
       "  </tbody>\n",
       "</table>\n",
       "</div>"
      ],
      "text/plain": [
       "                                                text     label\n",
       "0  @first_timee хоть я и школота, но поверь, у на...  positive\n",
       "1  Да, все-таки он немного похож на него. Но мой ...  positive\n",
       "2  RT @KatiaCheh: Ну ты идиотка) я испугалась за ...  positive\n",
       "3  RT @digger2912: \"Кто то в углу сидит и погибае...  positive\n",
       "4  @irina_dyshkant Вот что значит страшилка :D\\nН...  positive"
      ]
     },
     "execution_count": 4,
     "metadata": {},
     "output_type": "execute_result"
    }
   ],
   "source": [
    "positive = pd.read_csv('positive.csv', sep=';', usecols=[3], names=['text'])\n",
    "positive['label'] = ['positive'] * len(positive)\n",
    "negative = pd.read_csv('negative.csv', sep=';', usecols=[3], names=['text'])\n",
    "negative['label'] = ['negative'] * len(negative)\n",
    "df = positive.append(negative)\n",
    "df.head()"
   ]
  },
  {
   "cell_type": "markdown",
   "metadata": {},
   "source": [
    "Проведем стандартный препроцессинг:"
   ]
  },
  {
   "cell_type": "code",
   "execution_count": 5,
   "metadata": {},
   "outputs": [],
   "source": [
    "from pymystem3 import Mystem\n",
    "from functools import lru_cache\n",
    "from multiprocessing import Pool\n",
    "import numpy as np\n",
    "from sklearn.model_selection import train_test_split\n",
    "\n",
    "m = Mystem()\n",
    "\n",
    "regex = re.compile(\"[А-Яа-я:=!\\)\\()A-z\\_\\%/|]+\")\n",
    "\n",
    "def words_only(text, regex=regex):\n",
    "    try:\n",
    "        return \" \".join(regex.findall(text))\n",
    "    except:\n",
    "        return \"\""
   ]
  },
  {
   "cell_type": "code",
   "execution_count": 6,
   "metadata": {},
   "outputs": [],
   "source": [
    "@lru_cache(maxsize=128)\n",
    "def lemmatize(text, mystem=m):\n",
    "    try:\n",
    "        return \" \".join(m.lemmatize(text)).strip()  \n",
    "    except:\n",
    "        return \" \"    "
   ]
  },
  {
   "cell_type": "code",
   "execution_count": 7,
   "metadata": {},
   "outputs": [],
   "source": [
    "def clean_tetx(text):\n",
    "    return lemmatize(words_only(text))"
   ]
  },
  {
   "cell_type": "code",
   "execution_count": 10,
   "metadata": {},
   "outputs": [
    {
     "data": {
      "application/vnd.jupyter.widget-view+json": {
       "model_id": "4d768e9b8a0345499e490e87cdc1d275",
       "version_major": 2,
       "version_minor": 0
      },
      "text/html": [
       "<p>Failed to display Jupyter Widget of type <code>HBox</code>.</p>\n",
       "<p>\n",
       "  If you're reading this message in the Jupyter Notebook or JupyterLab Notebook, it may mean\n",
       "  that the widgets JavaScript is still loading. If this message persists, it\n",
       "  likely means that the widgets JavaScript library is either not installed or\n",
       "  not enabled. See the <a href=\"https://ipywidgets.readthedocs.io/en/stable/user_install.html\">Jupyter\n",
       "  Widgets Documentation</a> for setup instructions.\n",
       "</p>\n",
       "<p>\n",
       "  If you're reading this message in another frontend (for example, a static\n",
       "  rendering on GitHub or <a href=\"https://nbviewer.jupyter.org/\">NBViewer</a>),\n",
       "  it may mean that your frontend doesn't currently support widgets.\n",
       "</p>\n"
      ],
      "text/plain": [
       "HBox(children=(IntProgress(value=0, max=226834), HTML(value='')))"
      ]
     },
     "metadata": {},
     "output_type": "display_data"
    },
    {
     "name": "stdout",
     "output_type": "stream",
     "text": [
      "\n"
     ]
    },
    {
     "data": {
      "text/html": [
       "<div>\n",
       "<style scoped>\n",
       "    .dataframe tbody tr th:only-of-type {\n",
       "        vertical-align: middle;\n",
       "    }\n",
       "\n",
       "    .dataframe tbody tr th {\n",
       "        vertical-align: top;\n",
       "    }\n",
       "\n",
       "    .dataframe thead th {\n",
       "        text-align: right;\n",
       "    }\n",
       "</style>\n",
       "<table border=\"1\" class=\"dataframe\">\n",
       "  <thead>\n",
       "    <tr style=\"text-align: right;\">\n",
       "      <th></th>\n",
       "      <th>text</th>\n",
       "      <th>label</th>\n",
       "      <th>lemmas</th>\n",
       "    </tr>\n",
       "  </thead>\n",
       "  <tbody>\n",
       "    <tr>\n",
       "      <th>0</th>\n",
       "      <td>@first_timee хоть я и школота, но поверь, у на...</td>\n",
       "      <td>positive</td>\n",
       "      <td>first _ timee   хоть   я   и   школоть   но   ...</td>\n",
       "    </tr>\n",
       "    <tr>\n",
       "      <th>1</th>\n",
       "      <td>Да, все-таки он немного похож на него. Но мой ...</td>\n",
       "      <td>positive</td>\n",
       "      <td>да   весь   таки   он   немного   похожий   на...</td>\n",
       "    </tr>\n",
       "    <tr>\n",
       "      <th>2</th>\n",
       "      <td>RT @KatiaCheh: Ну ты идиотка) я испугалась за ...</td>\n",
       "      <td>positive</td>\n",
       "      <td>RT   KatiaCheh :  ну   ты   идиотка )  я   исп...</td>\n",
       "    </tr>\n",
       "    <tr>\n",
       "      <th>3</th>\n",
       "      <td>RT @digger2912: \"Кто то в углу сидит и погибае...</td>\n",
       "      <td>positive</td>\n",
       "      <td>RT   digger  :  кто   то   в   угол   сидеть  ...</td>\n",
       "    </tr>\n",
       "    <tr>\n",
       "      <th>4</th>\n",
       "      <td>@irina_dyshkant Вот что значит страшилка :D\\nН...</td>\n",
       "      <td>positive</td>\n",
       "      <td>irina _ dyshkant   вот   что   значить   страш...</td>\n",
       "    </tr>\n",
       "  </tbody>\n",
       "</table>\n",
       "</div>"
      ],
      "text/plain": [
       "                                                text     label  \\\n",
       "0  @first_timee хоть я и школота, но поверь, у на...  positive   \n",
       "1  Да, все-таки он немного похож на него. Но мой ...  positive   \n",
       "2  RT @KatiaCheh: Ну ты идиотка) я испугалась за ...  positive   \n",
       "3  RT @digger2912: \"Кто то в углу сидит и погибае...  positive   \n",
       "4  @irina_dyshkant Вот что значит страшилка :D\\nН...  positive   \n",
       "\n",
       "                                              lemmas  \n",
       "0  first _ timee   хоть   я   и   школоть   но   ...  \n",
       "1  да   весь   таки   он   немного   похожий   на...  \n",
       "2  RT   KatiaCheh :  ну   ты   идиотка )  я   исп...  \n",
       "3  RT   digger  :  кто   то   в   угол   сидеть  ...  \n",
       "4  irina _ dyshkant   вот   что   значить   страш...  "
      ]
     },
     "execution_count": 10,
     "metadata": {},
     "output_type": "execute_result"
    }
   ],
   "source": [
    "with Pool(8) as p:\n",
    "    lemmas = list(tqdm(p.imap(clean_tetx, df['text']), total=len(df)))\n",
    "    \n",
    "df['lemmas'] = lemmas\n",
    "df.head()"
   ]
  },
  {
   "cell_type": "markdown",
   "metadata": {},
   "source": [
    "Запишем полученные данные в формате для обучения классификатора:"
   ]
  },
  {
   "cell_type": "code",
   "execution_count": 11,
   "metadata": {},
   "outputs": [
    {
     "name": "stdout",
     "output_type": "stream",
     "text": [
      "total train examples 151978\n",
      "total test examples 74856\n"
     ]
    }
   ],
   "source": [
    "X = df.lemmas.tolist()\n",
    "y = df.label.tolist()\n",
    "\n",
    "X, y = np.array(X), np.array(y)\n",
    "\n",
    "X_train, X_test, y_train, y_test = train_test_split(X,y, test_size=0.33)\n",
    "print (\"total train examples %s\" % len(y_train))\n",
    "print (\"total test examples %s\" % len(y_test))"
   ]
  },
  {
   "cell_type": "code",
   "execution_count": 12,
   "metadata": {},
   "outputs": [],
   "source": [
    "with open('data.train.txt', 'w+') as outfile:\n",
    "    for i in range(len(X_train)):\n",
    "        outfile.write('__label__' + y_train[i] + ' '+ X_train[i] + '\\n')\n",
    "    \n",
    "\n",
    "with open('test.txt', 'w+') as outfile:\n",
    "    for i in range(len(X_test)):\n",
    "        outfile.write('__label__' + y_test[i] + ' ' + X_test[i] + '\\n')"
   ]
  },
  {
   "cell_type": "code",
   "execution_count": 18,
   "metadata": {},
   "outputs": [
    {
     "name": "stdout",
     "output_type": "stream",
     "text": [
      "P@1: 0.9968739980763065\n",
      "R@1: 0.9968739980763065\n",
      "Number of examples: 74856\n"
     ]
    }
   ],
   "source": [
    "classifier = fasttext.train_supervised('data.train.txt')\n",
    "result = classifier.test('test.txt')\n",
    "\n",
    "print('P@1:', result[1])\n",
    "print('R@1:', result[2])\n",
    "print('Number of examples:', result[0])"
   ]
  },
  {
   "cell_type": "markdown",
   "metadata": {},
   "source": [
    "## Задание\n",
    "\n",
    "1. Мы будем работать с (частичными) данными lenta.ru отсюда: https://www.kaggle.com/yutkin/corpus-of-russian-news-articles-from-lenta/\n",
    "2. Проведите препроцессинг текста. Разбейте данные на train и test для задачи классификации (в качестве метки класса будем использовать поле topic). В качестве данных для классификации в пунктах 3 и 5 возьмите\n",
    "    - только заголовки (title)\n",
    "    - только тексты новости (text)\n",
    "    - и то, и другое\n",
    "3. Обучите fastText для классификации текстов по темам. Сравните качество для разных данных из п. 2.\n",
    "4. Обучите свою модель w2v (или возьмите любую подходящую предобученную модель). Реализуйте функцию для вычисления вектора текста / заголовка / текста+заголовка как среднего вектора входящих в него слов. \n",
    "     - (Бонус) Модифицируйте функцию вычисления среднего вектора: взвешивайте вектора слов соответствующими весами tf-idf.\n",
    "5. Обучите на полученных средних векторах алгоритм классификации, сравните полученное качество с классификатором fastText. "
   ]
  },
  {
   "cell_type": "code",
   "execution_count": 67,
   "metadata": {},
   "outputs": [
    {
     "name": "stdout",
     "output_type": "stream",
     "text": [
      "--2019-09-08 13:08:48--  https://www.dropbox.com/s/ja23c9l1ppo9ix7/lenta-ru-news-part.csv?dl=0\n",
      "Распознаётся www.dropbox.com (www.dropbox.com)… 162.125.70.1\n",
      "Подключение к www.dropbox.com (www.dropbox.com)|162.125.70.1|:443... соединение установлено.\n",
      "HTTP-запрос отправлен. Ожидание ответа… 301 Moved Permanently\n",
      "Адрес: /s/raw/ja23c9l1ppo9ix7/lenta-ru-news-part.csv [переход]\n",
      "--2019-09-08 13:08:48--  https://www.dropbox.com/s/raw/ja23c9l1ppo9ix7/lenta-ru-news-part.csv\n",
      "Повторное использование соединения с www.dropbox.com:443.\n",
      "HTTP-запрос отправлен. Ожидание ответа… 302 Found\n",
      "Адрес: https://uc6df9979de2a2fa7a5a70f82cea.dl.dropboxusercontent.com/cd/0/inline/AoJl1P8bYh2VWwM0esHzv5iHTt_bC3pju0fDs5btgiYuRYKUQwOxbtCu1QVz64HGa0WowMLRlQbQob1y1066jNBtzqJWGjw2KnPAZ0pusjieLSVwtY8isfyIeuxEKia9x6E/file# [переход]\n",
      "--2019-09-08 13:08:49--  https://uc6df9979de2a2fa7a5a70f82cea.dl.dropboxusercontent.com/cd/0/inline/AoJl1P8bYh2VWwM0esHzv5iHTt_bC3pju0fDs5btgiYuRYKUQwOxbtCu1QVz64HGa0WowMLRlQbQob1y1066jNBtzqJWGjw2KnPAZ0pusjieLSVwtY8isfyIeuxEKia9x6E/file\n",
      "Распознаётся uc6df9979de2a2fa7a5a70f82cea.dl.dropboxusercontent.com (uc6df9979de2a2fa7a5a70f82cea.dl.dropboxusercontent.com)… 162.125.70.6\n",
      "Подключение к uc6df9979de2a2fa7a5a70f82cea.dl.dropboxusercontent.com (uc6df9979de2a2fa7a5a70f82cea.dl.dropboxusercontent.com)|162.125.70.6|:443... соединение установлено.\n",
      "HTTP-запрос отправлен. Ожидание ответа… 200 OK\n",
      "Длина: 647125492 (617M) [text/plain]\n",
      "Сохранение в: «lenta-ru-news-part.csv»\n",
      "\n",
      "lenta-ru-news-part. 100%[===================>] 617,15M  5,82MB/s    за 1m 51s  \n",
      "\n",
      "2019-09-08 13:10:40 (5,57 MB/s) - «lenta-ru-news-part.csv» сохранён [647125492/647125492]\n",
      "\n"
     ]
    }
   ],
   "source": [
    "! wget -O lenta-ru-news-part.csv https://www.dropbox.com/s/ja23c9l1ppo9ix7/lenta-ru-news-part.csv?dl=0"
   ]
  },
  {
   "cell_type": "code",
   "execution_count": 68,
   "metadata": {},
   "outputs": [
    {
     "data": {
      "text/html": [
       "<div>\n",
       "<style scoped>\n",
       "    .dataframe tbody tr th:only-of-type {\n",
       "        vertical-align: middle;\n",
       "    }\n",
       "\n",
       "    .dataframe tbody tr th {\n",
       "        vertical-align: top;\n",
       "    }\n",
       "\n",
       "    .dataframe thead th {\n",
       "        text-align: right;\n",
       "    }\n",
       "</style>\n",
       "<table border=\"1\" class=\"dataframe\">\n",
       "  <thead>\n",
       "    <tr style=\"text-align: right;\">\n",
       "      <th></th>\n",
       "      <th>title</th>\n",
       "      <th>text</th>\n",
       "      <th>topic</th>\n",
       "    </tr>\n",
       "  </thead>\n",
       "  <tbody>\n",
       "    <tr>\n",
       "      <th>0</th>\n",
       "      <td>Австрия не представила доказательств вины росс...</td>\n",
       "      <td>Австрийские правоохранительные органы не предс...</td>\n",
       "      <td>Спорт</td>\n",
       "    </tr>\n",
       "    <tr>\n",
       "      <th>1</th>\n",
       "      <td>Овечкин повторил свой рекорд</td>\n",
       "      <td>Капитан «Вашингтона» Александр Овечкин сделал...</td>\n",
       "      <td>Спорт</td>\n",
       "    </tr>\n",
       "    <tr>\n",
       "      <th>2</th>\n",
       "      <td>Названы регионы России с самым дорогим и дешев...</td>\n",
       "      <td>Производитель онлайн-касс «Эвотор» проанализир...</td>\n",
       "      <td>Экономика</td>\n",
       "    </tr>\n",
       "    <tr>\n",
       "      <th>3</th>\n",
       "      <td>Россию и Украину пригласили на переговоры по газу</td>\n",
       "      <td>Вице-президент Еврокомиссии Марош Шефчович при...</td>\n",
       "      <td>Экономика</td>\n",
       "    </tr>\n",
       "    <tr>\n",
       "      <th>4</th>\n",
       "      <td>Хоккеист НХЛ забросил шайбу с отрицательного угла</td>\n",
       "      <td>Нападающий клуба «Эдмонтон Ойлерс» Коннор Макд...</td>\n",
       "      <td>Спорт</td>\n",
       "    </tr>\n",
       "  </tbody>\n",
       "</table>\n",
       "</div>"
      ],
      "text/plain": [
       "                                               title  \\\n",
       "0  Австрия не представила доказательств вины росс...   \n",
       "1                       Овечкин повторил свой рекорд   \n",
       "2  Названы регионы России с самым дорогим и дешев...   \n",
       "3  Россию и Украину пригласили на переговоры по газу   \n",
       "4  Хоккеист НХЛ забросил шайбу с отрицательного угла   \n",
       "\n",
       "                                                text      topic  \n",
       "0  Австрийские правоохранительные органы не предс...      Спорт  \n",
       "1   Капитан «Вашингтона» Александр Овечкин сделал...      Спорт  \n",
       "2  Производитель онлайн-касс «Эвотор» проанализир...  Экономика  \n",
       "3  Вице-президент Еврокомиссии Марош Шефчович при...  Экономика  \n",
       "4  Нападающий клуба «Эдмонтон Ойлерс» Коннор Макд...      Спорт  "
      ]
     },
     "execution_count": 68,
     "metadata": {},
     "output_type": "execute_result"
    }
   ],
   "source": [
    "lenta = pd.read_csv('lenta-ru-news-part.csv', usecols=['title', 'text', 'topic'])\n",
    "lenta.head()"
   ]
  },
  {
   "cell_type": "code",
   "execution_count": 69,
   "metadata": {},
   "outputs": [
    {
     "data": {
      "text/plain": [
       "258297"
      ]
     },
     "execution_count": 69,
     "metadata": {},
     "output_type": "execute_result"
    }
   ],
   "source": [
    "len(lenta)"
   ]
  },
  {
   "cell_type": "code",
   "execution_count": 70,
   "metadata": {},
   "outputs": [
    {
     "data": {
      "text/plain": [
       "Экономика          79538\n",
       "Спорт              64421\n",
       "Культура           53803\n",
       "Наука и техника    53136\n",
       "Бизнес              7399\n",
       "Name: topic, dtype: int64"
      ]
     },
     "execution_count": 70,
     "metadata": {},
     "output_type": "execute_result"
    }
   ],
   "source": [
    "lenta.topic.value_counts()"
   ]
  },
  {
   "cell_type": "code",
   "execution_count": null,
   "metadata": {},
   "outputs": [],
   "source": []
  }
 ],
 "metadata": {
  "kernelspec": {
   "display_name": "Python 3",
   "language": "python",
   "name": "python3"
  },
  "language_info": {
   "codemirror_mode": {
    "name": "ipython",
    "version": 3
   },
   "file_extension": ".py",
   "mimetype": "text/x-python",
   "name": "python",
   "nbconvert_exporter": "python",
   "pygments_lexer": "ipython3",
   "version": "3.6.3"
  }
 },
 "nbformat": 4,
 "nbformat_minor": 2
}
